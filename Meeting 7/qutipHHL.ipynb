{
 "cells": [
  {
   "cell_type": "code",
   "execution_count": 1,
   "metadata": {
    "collapsed": false,
    "deletable": true,
    "editable": true
   },
   "outputs": [],
   "source": [
    "import qutip as qt\n",
    "import numpy as np\n",
    "import scipy.linalg as sp\n",
    "import math\n",
    "import cmath"
   ]
  },
  {
   "cell_type": "code",
   "execution_count": 2,
   "metadata": {
    "collapsed": true,
    "deletable": true,
    "editable": true
   },
   "outputs": [],
   "source": [
    "def preprocess(mat, vec):\n",
    "\n",
    "    if (mat.shape[0] != mat.shape[1]) or (mat.shape[0] != vec.shape[0]):\n",
    "        print(\"PLEASE MAKE SURE A IS SQUARE AND USE MATCHING INPUT DIMENSIONS FOR A AND b!\")\n",
    "        raise Exception\n",
    "        \n",
    "    if (not mat.isherm):\n",
    "        zero_block = np.zeros(mat.shape)\n",
    "        mat = qt.Qobj(np.array(np.bmat([[zero_block, mat.full()] , [mat.dag().full(), zero_block]])))\n",
    "        vec = qt.Qobj(np.hstack([b_init.full().flatten(), zero_block[0]]))\n",
    "        \n",
    "    eigenvals, eigenvecs = mat.eigenstates()\n",
    "  \n",
    "    ### Normalise b and remember normalisation factor\n",
    "    if (vec.norm() != 1):\n",
    "        nf = float(vec.norm())\n",
    "        vec = vec / nf\n",
    "    else:\n",
    "        nf = 1\n",
    "\n",
    "    return mat, vec, nf"
   ]
  },
  {
   "cell_type": "code",
   "execution_count": 3,
   "metadata": {
    "collapsed": true,
    "deletable": true,
    "editable": true
   },
   "outputs": [],
   "source": [
    "def qft(N):\n",
    "    mat = 1 / math.sqrt(N) * qt.Qobj([[cmath.exp(1j * i * j / N) for i in range(N)] for j in range(N)])\n",
    "    return mat\n",
    "\n",
    "def angle(k, t0, C):\n",
    "    return math.asin(C * t0 /(2 * math.pi * k))\n",
    "\n",
    "def rot(k, t0, C):\n",
    "    return np.array([[math.cos(angle(k, t0, C)), math.sin(angle(k, t0, C))],\n",
    "                     [- math.sin(angle(k, t0, C)), math.cos(angle(k, t0, C))]])\n",
    "    \n",
    "def cRot(N, t0, C):\n",
    "    mat = np.eye(2)\n",
    "    for k in range(1, N):\n",
    "        mat = sp.block_diag(mat, rot(k, t0, C))\n",
    "        rotationmat = qt.Qobj(mat)\n",
    "        rotationmat.dims =  [[N, 2], [N, 2]]\n",
    "    return rotationmat\n",
    "\n",
    "def inv(Quantobj):\n",
    "    mat = Quantobj.full()\n",
    "    matinv = np.linalg.inv(mat)\n",
    "    invQobj = qt.Qobj(matinv)\n",
    "    invQobj.dims = Quantobj.dims\n",
    "    return invQobj"
   ]
  },
  {
   "cell_type": "code",
   "execution_count": 4,
   "metadata": {
    "collapsed": false,
    "deletable": true,
    "editable": true
   },
   "outputs": [],
   "source": [
    "A_init = qt.Qobj([[2., 1.],[1., 2.]])\n",
    "b_init = qt.Qobj([[0.2] , [0.7]])\n",
    "prec = 100 # Choose the number of qubits (precision) to represent eigenvalues in the quantum algorithm\n",
    "\n",
    "# Produce a Hermitian matrix A of dimension 2^n x 2^n (n integer) with eigenvalues in ]0,1]\n",
    "# and a unit-length vector b of dimension 2^n out of the original inputs A and b \n",
    "A, b, nf1 = preprocess(A_init, b_init)\n",
    "\n",
    "# Some stuff needed for the classical simulation which the quantum system does generically :\n",
    "eigenvals, eigenvecs = A.eigenstates()  # The eigendecomposition of A\n",
    "\n",
    "κ = eigenvals.max() / eigenvals.min()    #Condition number, of use for estimating constants\n",
    "ϵ = 1    #Additive error achieved in the estimation of |x>, of use for estimating constants"
   ]
  },
  {
   "cell_type": "markdown",
   "metadata": {
    "deletable": true,
    "editable": true
   },
   "source": [
    "### STEP 1: STATE PREPARATION OF b\n",
    "[HHL: page 2, column 2, center]\n",
    "\n",
    "Write b in the eigenbasis of A"
   ]
  },
  {
   "cell_type": "code",
   "execution_count": 5,
   "metadata": {
    "collapsed": false,
    "deletable": true,
    "editable": true
   },
   "outputs": [],
   "source": [
    "diagonalizer = qt.Qobj(np.array([eigenvecs[i].full().T.flatten() for i in range(len(eigenvals))])) # Create the matrix that diagonalizes A\n",
    "b = diagonalizer * b"
   ]
  },
  {
   "cell_type": "markdown",
   "metadata": {
    "deletable": true,
    "editable": true
   },
   "source": [
    "### STEP 2: QUANTUM SIMULATION AND QUANTUM PHASE ESTIMATION\n",
    "[HHL: page 2, column 2, bottom]"
   ]
  },
  {
   "cell_type": "code",
   "execution_count": 6,
   "metadata": {
    "collapsed": false,
    "deletable": true,
    "editable": true
   },
   "outputs": [],
   "source": [
    "T = prec\n",
    "t0 = κ / ϵ    #It should be O(κ/ϵ), whatever that means\n",
    "psi0 = qt.Qobj([[math.sqrt(2 / T) * math.sin(math.pi * (tau + 0.5) / T)] for tau in range(T)])\n",
    "\n",
    "evo = qt.tensor(qt.identity(A.shape[0]), qt.ket2dm(qt.basis(T, 0)))    #Order is b, τ, and then ancilla\n",
    "\n",
    "for tau in range(1, T):\n",
    "    evo += qt.tensor((1j * A * tau * t0 / T).expm(), qt.ket2dm(qt.basis(T, tau)))\n",
    "\n",
    "psiev = evo * qt.tensor(b, psi0)\n",
    "\n",
    "ftrans = qt.tensor(qt.identity(b.shape[0]), qft(T))\n",
    "\n",
    "psifourier = ftrans * psiev    # This is Eq. 3 in HHL"
   ]
  },
  {
   "cell_type": "markdown",
   "metadata": {
    "deletable": true,
    "editable": true
   },
   "source": [
    "### STEP 3-1: Conditional Rotation of Ancilla"
   ]
  },
  {
   "cell_type": "code",
   "execution_count": 7,
   "metadata": {
    "collapsed": false,
    "deletable": true,
    "editable": true
   },
   "outputs": [],
   "source": [
    "total_state = qt.tensor(psifourier, qt.basis(2, 0))   # Add ancilla for swapping\n",
    "\n",
    "C = 1 / κ    # Constant, should be O(1/κ)\n",
    "\n",
    "final_state = qt.tensor(qt.qeye(b.shape[0]), cRot(T, t0, C)) * total_state    # Do conditional rotation only on τ and ancilla"
   ]
  },
  {
   "cell_type": "markdown",
   "metadata": {
    "deletable": true,
    "editable": true
   },
   "source": [
    "### STEP 3-2: Un-computation of the eigenvalue register"
   ]
  },
  {
   "cell_type": "code",
   "execution_count": 8,
   "metadata": {
    "collapsed": false,
    "deletable": true,
    "editable": true
   },
   "outputs": [],
   "source": [
    "### Undo Fourier transform\n",
    "undo_ftrans = qt.tensor(qt.identity(b.shape[0]), inv(qft(T)), qt.identity(2))\n",
    "psiev_undone = undo_ftrans * final_state\n",
    "\n",
    "### Undo evolution\n",
    "undo_evo = qt.tensor(inv(evo), qt.identity(2))\n",
    "\n",
    "psi0_with_eiginfo = undo_evo * psiev_undone"
   ]
  },
  {
   "cell_type": "markdown",
   "metadata": {
    "deletable": true,
    "editable": true
   },
   "source": [
    "### STEP 3-3: Post-selection on $\\left|1\\right\\rangle$ on the ancilla register\n",
    "We perform the post selection by projecting onto the desired ancilla state and later tracing out the ancilla and the $\\left|\\psi_0\\right\\rangle$ registers."
   ]
  },
  {
   "cell_type": "code",
   "execution_count": 9,
   "metadata": {
    "collapsed": false,
    "deletable": true,
    "editable": true,
    "scrolled": false
   },
   "outputs": [
    {
     "data": {
      "text/plain": [
       "array([ 0.05202587,  0.94797413])"
      ]
     },
     "execution_count": 9,
     "metadata": {},
     "output_type": "execute_result"
    }
   ],
   "source": [
    "projector = qt.tensor(qt.identity(b.shape[0]), qt.identity(T), qt.ket2dm(qt.basis(2, 1)))\n",
    "postsel = projector * psi0_with_eiginfo\n",
    "prob1 = qt.expect(projector, psi0_with_eiginfo)\n",
    "finalstate = postsel.ptrace([0]) / prob1    # Trace out ancilla and τ registers, leaving only the b register\n",
    "finalstate.eigenenergies()"
   ]
  },
  {
   "cell_type": "markdown",
   "metadata": {
    "deletable": true,
    "editable": true
   },
   "source": [
    "$\\left|finalstate\\right\\rangle$ is essentially a pure state (it should be if all the process was perfect), so now we just isolate that main part, that is our $\\left|x\\right\\rangle$ (after a transformation if our original A was not Hermitian) in the basis that diagonalizes $A$."
   ]
  },
  {
   "cell_type": "code",
   "execution_count": 10,
   "metadata": {
    "collapsed": false,
    "deletable": true,
    "editable": true,
    "scrolled": true
   },
   "outputs": [
    {
     "data": {
      "text/latex": [
       "Quantum object: dims = [[2], [1]], shape = (2, 1), type = ket\\begin{equation*}\\left(\\begin{array}{*{11}c}0.613\\\\(-0.084+0.752j)\\\\\\end{array}\\right)\\end{equation*}"
      ],
      "text/plain": [
       "Quantum object: dims = [[2], [1]], shape = (2, 1), type = ket\n",
       "Qobj data =\n",
       "[[ 0.61326706+0.j       ]\n",
       " [-0.08427123+0.7515158j]]"
      ]
     },
     "execution_count": 10,
     "metadata": {},
     "output_type": "execute_result"
    }
   ],
   "source": [
    "fsevls, fsevcs = finalstate.eigenstates()\n",
    "x = math.sqrt(fsevls.max()) * fsevcs[fsevls.argmax()]\n",
    "x"
   ]
  },
  {
   "cell_type": "markdown",
   "metadata": {
    "collapsed": false,
    "deletable": true,
    "editable": true
   },
   "source": [
    "This state is supposed to be $\\left|x\\right\\rangle=A^{-1}\\left|b\\right\\rangle=\\sum_j \\beta_j\\lambda_j^{-1}\\left|u_j\\right\\rangle$, although I don't understand why it has complex numbers.\n",
    "\n",
    "IMPORTANT NOTE: If A_init is not Hermitian, the output $\\left|x\\right\\rangle$ has dimension double than the input b_init. It is to be interpreted as the representation of the vector (0, x) in the basis that diagonalizes $C = [[0,\\,A], [A^{\\dagger},\\, 0]]$"
   ]
  }
 ],
 "metadata": {
  "kernelspec": {
   "display_name": "Python 3",
   "language": "python",
   "name": "python3"
  },
  "language_info": {
   "codemirror_mode": {
    "name": "ipython",
    "version": 3
   },
   "file_extension": ".py",
   "mimetype": "text/x-python",
   "name": "python",
   "nbconvert_exporter": "python",
   "pygments_lexer": "ipython3",
   "version": "3.5.2"
  }
 },
 "nbformat": 4,
 "nbformat_minor": 2
}
