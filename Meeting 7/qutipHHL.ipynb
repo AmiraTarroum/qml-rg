{
 "cells": [
  {
   "cell_type": "code",
   "execution_count": 1,
   "metadata": {
    "collapsed": true,
    "deletable": true,
    "editable": true
   },
   "outputs": [],
   "source": [
    "import qutip as qt\n",
    "import numpy as np\n",
    "import scipy.linalg as sp\n",
    "import math\n",
    "import cmath\n",
    "from tabulate import tabulate"
   ]
  },
  {
   "cell_type": "code",
   "execution_count": 2,
   "metadata": {
    "collapsed": true,
    "deletable": true,
    "editable": true
   },
   "outputs": [],
   "source": [
    "def preprocess(mat, vec):\n",
    "\n",
    "    if (mat.shape[0] != mat.shape[1]) or (mat.shape[0] != vec.shape[0]):\n",
    "        print(\"PLEASE MAKE SURE A IS SQUARE AND USE MATCHING INPUT DIMENSIONS FOR A AND b!\")\n",
    "        raise Exception\n",
    "        \n",
    "    if (not mat.isherm): \n",
    "        print(\"PLEASE ENTER A POSITIVE DEFINITE MATRIX\")\n",
    "        raise Exception\n",
    "        \n",
    "    ### If b has not dimension 2**n for an integer n, define larger LSE --> Read the solution from the first N entries of x\n",
    "    #nn = math.log(vec.shape[0], 2)\n",
    "    #if (nn % 1 != 0):\n",
    "    #    vec = np.array([vec[i] if i<len(vec) else 0  for i in range(int(nn+1)**2)] )\n",
    "    #    mat = np.array([[ mat[i,j] if (i<mat.shape[0] and j<mat.shape[0]) else 0  for i in range(int(nn+1)**2)] for j in range(int(nn+1)**2)])\n",
    "       \n",
    "\n",
    "    ### If A is not Hermitian, define larger LSE --> Read the solution from the first N entries of x\n",
    "    #if (not isHermitian(mat)):\n",
    "    #    zero_block = np.array([[0 for i in range(len(mat))] for j in range(len(mat))])\n",
    "    #    mat = np.array(np.bmat([[mat, zero_block] , [zero_block, mat]]))\n",
    "    #    vec = np.hstack([vec, zero_block[0]])\n",
    "        \n",
    "    eigenvals, eigenvecs = mat.eigenstates()\n",
    "  \n",
    "    ### Rescale A, b so that A's eigenvalues are in [0,1] --> Should not affect the solution\n",
    "    if (eigenvals.max() > 1):\n",
    "        mat = mat / eigenvals.max()\n",
    "        vec = vec / eigenvals.max()\n",
    "        eigenvals, eigenvecs = mat.eigenstates()\n",
    "\n",
    "    ### Normalise b and remember normalisation factor\n",
    "    if (vec.norm() != 1):\n",
    "        nf = float(vec.norm())\n",
    "        vec = vec / nf\n",
    "    else:\n",
    "        nf = 1\n",
    "\n",
    "    ### Check once more if new matrix is positive definite\n",
    "    #if (not mat.isherm): \n",
    "    #    print(\"PREPROCESSING PRODUCED A NON-POSITIVE DEFINITE MATRIX. PLEASE TRY A DIFFERENT INPUT.\")\n",
    "    #    return Exception\n",
    "\n",
    "    return mat, vec, nf"
   ]
  },
  {
   "cell_type": "code",
   "execution_count": 3,
   "metadata": {
    "collapsed": true,
    "deletable": true,
    "editable": true
   },
   "outputs": [],
   "source": [
    "#def isPositiveDefinite(mat):\n",
    "#    eigenvals, eigenvecs = np.linalg.eig(mat)\n",
    "#    if any(item <= 0 for item in eigenvals):\n",
    "#        return False\n",
    "#    else:\n",
    "#        return True\n",
    "\n",
    "#def index_to_bstate(index, number_of_bits): # Convert integer to binary\n",
    "#    return format(index, '0'+str(number_of_bits)+'b')\n",
    "    \n",
    "#def bstate_to_index(state): # Convert binary to integer\n",
    "#    return int(state, 2)\n",
    "\n",
    "def bin_to_evl(bin_evl): # Convert a binary to a real number [0,1] \n",
    "    return sum([int(bin_evl[i])*(1/2.**(i+1)) for i in range(len(bin_evl))])\n",
    "    \n",
    "    \n",
    "def evl_to_bin(evl, length): # Convert a real number in [0,1] to a binary (this is how the eigenvalues are encoded)\n",
    "    temp = evl\n",
    "    bits = ''\n",
    "    for i in range(length):\n",
    "        if (temp - (1/2.**(i+1)) >= 0):\n",
    "            temp = temp - (1/2.**(i+1))\n",
    "            bits += '1'\n",
    "        else: \n",
    "            bits += '0'\n",
    "    return bits\n",
    "\n",
    "def proj(state):\n",
    "    return state * state.dag()\n",
    "\n",
    "def qft(N):\n",
    "    mat = 1 / math.sqrt(N) * qt.Qobj([[cmath.exp(1j * i * j / N) for i in range(N)] for j in range(N)])\n",
    "    return mat\n",
    "\n",
    "def angle(k, t0, C):\n",
    "    return math.asin(C * t0 /(2 * math.pi * k))\n",
    "\n",
    "def rot(k, t0, C):\n",
    "    return np.array([[math.cos(angle(k, t0, C)), math.sin(angle(k, t0, C))],\n",
    "                     [- math.sin(angle(k, t0, C)), math.cos(angle(k, t0, C))]])\n",
    "    \n",
    "def cRot(N, t0, C):\n",
    "    mat = np.eye(2)\n",
    "    for k in range(1, 2 * N):\n",
    "        mat = sp.block_diag(mat, rot(k, t0, C))\n",
    "        rotationmat = qt.Qobj(mat)\n",
    "        rotationmat.dims =  [[N, 2, 2], [N, 2, 2]]\n",
    "    return rotationmat\n",
    "\n",
    "def inv(Qobj):\n",
    "    mat = Qobj.full()\n",
    "    matinv = np.linalg.inv(mat)\n",
    "    invQobj = qt.Qobj(matinv)\n",
    "    invQobj.dims = Qobj.dims\n",
    "    return invQobj"
   ]
  },
  {
   "cell_type": "code",
   "execution_count": 4,
   "metadata": {
    "collapsed": false,
    "deletable": true,
    "editable": true
   },
   "outputs": [
    {
     "name": "stdout",
     "output_type": "stream",
     "text": [
      "\n",
      " INPUTS (after preprocessing): \n",
      "----  --------------------------------------------------------------------------------------------------------\n",
      "prec  10\n",
      "A     [[(0.6666666666666666+0j), (0.3333333333333333+0j)], [(0.3333333333333333+0j), (0.6666666666666666+0j)]]\n",
      "b     [[ 0.27472113+0.j  0.96152395+0.j]]\n",
      "n     1\n",
      "----  --------------------------------------------------------------------------------------------------------\n",
      "\n",
      " SPECTRAL PROPERTIES OF A: \n",
      "------------------------------------  --------------------------------------\n",
      "Eigenvalues of A                      [ 0.33333333  1.        ]\n",
      "Eigenvalues in binary representation  ['0101010101', '1111111111']\n",
      "Error of binary representation        [0.00032552083333331483, 0.0009765625]\n",
      "Eigenvectors                          [Quantum object: dims = [[2], [1]], shape = (2, 1), type = ket\n",
      "Qobj data =\n",
      "[[-0.70710678]\n",
      " [ 0.70710678]], Quantum object: dims = [[2], [1]], shape = (2, 1), type = ket\n",
      "Qobj data =\n",
      "[[ 0.70710678]\n",
      " [ 0.70710678]]]\n",
      "------------------------------------  --------------------------------------\n"
     ]
    }
   ],
   "source": [
    "A_init = qt.Qobj([[2., 1.],[1.,2.]])\n",
    "b_init = qt.Qobj([[0.2] , [0.7]])\n",
    "prec = 10 # Choose the number of qubits (precision) to represent eigenvalues in the quantum algorithm\n",
    "\n",
    "# Produce a Hermitian matrix A of dimension 2^n x 2^n (n integer) with eigenvalues in ]0,1]\n",
    "# and a unit-length vector b of dimension 2^n out of the original inputs A and b \n",
    "A, b, nf1 = preprocess(A_init, b_init)\n",
    "\n",
    "# Some stuff needed for the classical simulation which the quantum system does generically :\n",
    "eigenvals, eigenvecs = A.eigenstates()  # The eigendecomposition of A\n",
    "#eigenvecs = np.transpose(eigenvecs)  # Needed because numpy returns the eigenvectors as columns of eigenvecs\n",
    "bin_eigenvals = [evl_to_bin(evl, prec) for evl in eigenvals] # A's eigenvalues in binary representation\n",
    "n = int(math.log(b.shape[0], 2)) # Calculate number of qubits needed to represent b \n",
    "C = eigenvals.min() / 2. # Define a number C that is smaller than the smallest eigenvalue (which has to be estimated somehow) \n",
    "\n",
    "\n",
    "# Some printing\n",
    "#np.set_printoptions(precision=3)\n",
    "print(\"\\n INPUTS (after preprocessing): \")\n",
    "print( tabulate([['prec' , prec],  ['A',  np.ndarray.tolist(A.full())], ['b', b.full().T], ['n' , n]]))\n",
    "print( \"\\n SPECTRAL PROPERTIES OF A: \")\n",
    "print( tabulate([['Eigenvalues of A',eigenvals] ,\n",
    "['Eigenvalues in binary representation ' ,bin_eigenvals],['Error of binary representation' , [abs(bin_to_evl(bin_eigenvals[i])-eigenvals[i]) for i in range(len(bin_eigenvals))]], \n",
    "['Eigenvectors ', np.ndarray.tolist(eigenvecs) ]]))"
   ]
  },
  {
   "cell_type": "markdown",
   "metadata": {
    "deletable": true,
    "editable": true
   },
   "source": [
    "### STEP 1: STATE PREPARATION OF b\n",
    "[HHL: page 2, column 2, center]\n",
    "We need to write b in the eigenbasis of A\n",
    "### (STILL TO BE DONE)"
   ]
  },
  {
   "cell_type": "code",
   "execution_count": 5,
   "metadata": {
    "collapsed": false,
    "deletable": true,
    "editable": true
   },
   "outputs": [],
   "source": [
    "diagonalizer = qt.Qobj(np.array((eigenvecs[0].full().T.flatten(),\n",
    "                                 eigenvecs[1].full().T.flatten()))) # Create the matrix that diagonalizes A\n",
    "b = diagonalizer * b"
   ]
  },
  {
   "cell_type": "markdown",
   "metadata": {
    "deletable": true,
    "editable": true
   },
   "source": [
    "### STEP 2: QUANTUM SIMULATION AND QUANTUM PHASE ESTIMATION\n",
    "[HHL: page 2, column 2, bottom]"
   ]
  },
  {
   "cell_type": "code",
   "execution_count": 6,
   "metadata": {
    "collapsed": false,
    "deletable": true,
    "editable": true
   },
   "outputs": [],
   "source": [
    "T = 10\n",
    "t0 = 1    #It should be O(κ/ϵ), whatever that means\n",
    "psi0 = qt.Qobj([[math.sqrt(2 / T) * math.sin(math.pi * (tau + 0.5) / T)] for tau in range(T)])\n",
    "\n",
    "evo = qt.tensor(proj(qt.basis(T, 0)), qt.identity(A.shape[0]))\n",
    "\n",
    "for tau in range(1, T):\n",
    "    evo += qt.tensor(proj(qt.basis(T, tau)), (1j * A * tau * t0 / T).expm())\n",
    "\n",
    "#evo.dims = [[2 for _ in range(T+1)], [2 for _ in range(T+1)]]\n",
    "\n",
    "psiev = evo * qt.tensor(psi0, b)\n",
    "\n",
    "ftrans_complete = qt.tensor(qft(T), qt.identity(b.shape[0]))\n",
    "\n",
    "psifourier = ftrans_complete * psiev    # This is Eq. 3 in HHL"
   ]
  },
  {
   "cell_type": "markdown",
   "metadata": {
    "deletable": true,
    "editable": true
   },
   "source": [
    "### STEP 3-1: Conditional Rotation of Ancilla\n",
    "[HHL: page 3, column 1,  third equation]"
   ]
  },
  {
   "cell_type": "code",
   "execution_count": 7,
   "metadata": {
    "collapsed": false,
    "deletable": true,
    "editable": true
   },
   "outputs": [],
   "source": [
    "total_state = qt.tensor(psifourier, qt.basis(2, 0))   # Add ancilla for swapping\n",
    "\n",
    "C = 1\n",
    "\n",
    "final_state = cRot(T, t0, C) * total_state    # Do conditional rotation"
   ]
  },
  {
   "cell_type": "markdown",
   "metadata": {
    "deletable": true,
    "editable": true
   },
   "source": [
    "### STEP 3-2: Un-computation of the eigenvalue register"
   ]
  },
  {
   "cell_type": "code",
   "execution_count": 8,
   "metadata": {
    "collapsed": false,
    "deletable": true,
    "editable": true
   },
   "outputs": [],
   "source": [
    "### Undo Fourier transform\n",
    "undo_ftrans_complete = qt.tensor(inv(qft(T)), qt.identity(b.shape[0]), qt.identity(2))\n",
    "psiev_undone = undo_ftrans_complete * final_state\n",
    "\n",
    "### Undo evolution\n",
    "undo_evo = qt.tensor(inv(evo), qt.identity(2))\n",
    "\n",
    "psi0_with_eiginfo = undo_evo * psiev_undone"
   ]
  },
  {
   "cell_type": "markdown",
   "metadata": {
    "deletable": true,
    "editable": true
   },
   "source": [
    "### STEP 3-3: Post-selection on $\\left|1\\right\\rangle$ on the ancilla register\n",
    "We perform the post selection by projecting onto the desired ancilla state and later tracing the ancilla out."
   ]
  },
  {
   "cell_type": "code",
   "execution_count": 9,
   "metadata": {
    "collapsed": false,
    "deletable": true,
    "editable": true,
    "scrolled": false
   },
   "outputs": [],
   "source": [
    "projector = qt.tensor(qt.identity(T), qt.identity(b.shape[0]), proj(qt.basis(2,1)))\n",
    "postsel = projector * psi0_with_eiginfo\n",
    "prob1 = qt.expect(projector, psi0_with_eiginfo)\n",
    "finalstate = postsel.ptrace([0,1]) / prob1    # Trace out ancilla"
   ]
  },
  {
   "cell_type": "code",
   "execution_count": 10,
   "metadata": {
    "collapsed": false,
    "deletable": true,
    "editable": true
   },
   "outputs": [
    {
     "data": {
      "text/latex": [
       "Quantum object: dims = [[10, 2], [10, 2]], shape = (20, 20), type = oper, isherm = True\\begin{equation*}\\left(\\begin{array}{*{11}c}2.124\\times10^{-05} & (-7.979\\times10^{-06}-1.159\\times10^{-06}j) & (-1.574\\times10^{-04}-9.662\\times10^{-05}j) & (5.635\\times10^{-05}+4.096\\times10^{-05}j) & (3.262\\times10^{-04}+6.418\\times10^{-04}j) & \\cdots & (-2.613\\times10^{-04}-1.103\\times10^{-04}j) & (-5.599\\times10^{-05}-1.742\\times10^{-04}j) & (4.683\\times10^{-05}+5.766\\times10^{-05}j) & (-4.986\\times10^{-06}+2.036\\times10^{-05}j) & (-1.661\\times10^{-06}-8.594\\times10^{-06}j)\\\\(-7.979\\times10^{-06}+1.159\\times10^{-06}j) & 3.061\\times10^{-06} & (6.442\\times10^{-05}+2.771\\times10^{-05}j) & (-2.341\\times10^{-05}-1.231\\times10^{-05}j) & (-1.576\\times10^{-04}-2.233\\times10^{-04}j) & \\cdots & (1.042\\times10^{-04}+2.720\\times10^{-05}j) & (3.054\\times10^{-05}+6.237\\times10^{-05}j) & (-2.074\\times10^{-05}-1.911\\times10^{-05}j) & (7.623\\times10^{-07}-7.923\\times10^{-06}j) & (1.093\\times10^{-06}+3.138\\times10^{-06}j)\\\\(-1.574\\times10^{-04}+9.662\\times10^{-05}j) & (6.442\\times10^{-05}-2.771\\times10^{-05}j) & 0.002 & (-6.041\\times10^{-04}-4.725\\times10^{-05}j) & (-0.005-0.003j) & \\cdots & (0.002-3.709\\times10^{-04}j) & (0.001+0.001j) & (-6.094\\times10^{-04}-2.143\\times10^{-04}j) & (-5.568\\times10^{-05}-1.736\\times10^{-04}j) & (5.141\\times10^{-05}+5.615\\times10^{-05}j)\\\\(5.635\\times10^{-05}-4.096\\times10^{-05}j) & (-2.341\\times10^{-05}+1.231\\times10^{-05}j) & (-6.041\\times10^{-04}+4.725\\times10^{-05}j) & 2.285\\times10^{-04} & (0.002+0.001j) & \\cdots & (-9.061\\times10^{-04}+2.112\\times10^{-04}j) & (-4.844\\times10^{-04}-3.541\\times10^{-04}j) & (2.354\\times10^{-04}+6.267\\times10^{-05}j) & (2.604\\times10^{-05}+6.365\\times10^{-05}j) & (-2.098\\times10^{-05}-1.960\\times10^{-05}j)\\\\(3.262\\times10^{-04}-6.418\\times10^{-04}j) & (-1.576\\times10^{-04}+2.233\\times10^{-04}j) & (-0.005+0.003j) & (0.002-0.001j) & 0.024 & \\cdots & (-0.007+0.006j) & (-0.006-9.827\\times10^{-04}j) & (0.002-5.296\\times10^{-04}j) & (5.388\\times10^{-04}+4.634\\times10^{-04}j) & (-2.852\\times10^{-04}-8.179\\times10^{-05}j)\\\\\\vdots & \\vdots & \\vdots & \\vdots & \\vdots & \\ddots & \\vdots & \\vdots & \\vdots & \\vdots & \\vdots\\\\(-2.613\\times10^{-04}+1.103\\times10^{-04}j) & (1.042\\times10^{-04}-2.720\\times10^{-05}j) & (0.002+3.709\\times10^{-04}j) & (-9.061\\times10^{-04}-2.112\\times10^{-04}j) & (-0.007-0.006j) & \\cdots & 0.004 & (0.002+0.002j) & (-8.757\\times10^{-04}-4.661\\times10^{-04}j) & (-4.445\\times10^{-05}-2.764\\times10^{-04}j) & (6.508\\times10^{-05}+9.710\\times10^{-05}j)\\\\(-5.599\\times10^{-05}+1.742\\times10^{-04}j) & (3.054\\times10^{-05}-6.237\\times10^{-05}j) & (0.001-0.001j) & (-4.844\\times10^{-04}+3.541\\times10^{-04}j) & (-0.006+9.827\\times10^{-04}j) & \\cdots & (0.002-0.002j) & 0.002 & (-5.962\\times10^{-04}+2.320\\times10^{-04}j) & (-1.538\\times10^{-04}-9.457\\times10^{-05}j) & (7.485\\times10^{-05}+9.035\\times10^{-06}j)\\\\(4.683\\times10^{-05}-5.766\\times10^{-05}j) & (-2.074\\times10^{-05}+1.911\\times10^{-05}j) & (-6.094\\times10^{-04}+2.143\\times10^{-04}j) & (2.354\\times10^{-04}-6.267\\times10^{-05}j) & (0.002+5.296\\times10^{-04}j) & \\cdots & (-8.757\\times10^{-04}+4.661\\times10^{-04}j) & (-5.962\\times10^{-04}-2.320\\times10^{-04}j) & 2.598\\times10^{-04} & (4.429\\times10^{-05}+5.844\\times10^{-05}j) & (-2.699\\times10^{-05}-1.444\\times10^{-05}j)\\\\(-4.986\\times10^{-06}-2.036\\times10^{-05}j) & (7.623\\times10^{-07}+7.923\\times10^{-06}j) & (-5.568\\times10^{-05}+1.736\\times10^{-04}j) & (2.604\\times10^{-05}-6.365\\times10^{-05}j) & (5.388\\times10^{-04}-4.634\\times10^{-04}j) & \\cdots & (-4.445\\times10^{-05}+2.764\\times10^{-04}j) & (-1.538\\times10^{-04}+9.457\\times10^{-05}j) & (4.429\\times10^{-05}-5.844\\times10^{-05}j) & 2.070\\times10^{-05} & (-7.850\\times10^{-06}+3.610\\times10^{-06}j)\\\\(-1.661\\times10^{-06}+8.594\\times10^{-06}j) & (1.093\\times10^{-06}-3.138\\times10^{-06}j) & (5.141\\times10^{-05}-5.615\\times10^{-05}j) & (-2.098\\times10^{-05}+1.960\\times10^{-05}j) & (-2.852\\times10^{-04}+8.179\\times10^{-05}j) & \\cdots & (6.508\\times10^{-05}-9.710\\times10^{-05}j) & (7.485\\times10^{-05}-9.035\\times10^{-06}j) & (-2.699\\times10^{-05}+1.444\\times10^{-05}j) & (-7.850\\times10^{-06}-3.610\\times10^{-06}j) & 3.607\\times10^{-06}\\\\\\end{array}\\right)\\end{equation*}"
      ],
      "text/plain": [
       "Quantum object: dims = [[10, 2], [10, 2]], shape = (20, 20), type = oper, isherm = True\n",
       "Qobj data =\n",
       "[[  2.12385979e-05 +0.00000000e+00j  -7.97945367e-06 -1.15876247e-06j\n",
       "   -1.57438651e-04 -9.66242441e-05j   5.63535408e-05 +4.09597773e-05j\n",
       "    3.26182528e-04 +6.41793524e-04j  -1.19828375e-04 -2.43013822e-04j\n",
       "    1.31380261e-04 -1.64495667e-03j  -1.63551684e-05 +6.22253552e-04j\n",
       "   -1.44348417e-03 +1.98176790e-03j   4.55266632e-04 -8.11804042e-04j\n",
       "    2.26333227e-03 -9.34077822e-04j  -7.88637882e-04 +5.10217895e-04j\n",
       "   -1.62295895e-03 -2.59654419e-04j   6.37318820e-04 -5.61824846e-05j\n",
       "    5.42733796e-04 +4.65547157e-04j  -2.61308052e-04 -1.10342638e-04j\n",
       "   -5.59891948e-05 -1.74150730e-04j   4.68292564e-05 +5.76561338e-05j\n",
       "   -4.98611102e-06 +2.03637672e-05j  -1.66101824e-06 -8.59379361e-06j]\n",
       " [ -7.97945367e-06 +1.15876247e-06j   3.06114422e-06 +0.00000000e+00j\n",
       "    6.44222832e-05 +2.77125016e-05j  -2.34070593e-05 -1.23141969e-05j\n",
       "   -1.57564291e-04 -2.23328943e-04j   5.82788123e-05 +8.47638305e-05j\n",
       "    4.03873810e-05 +6.25186939e-04j  -2.78049783e-05 -2.34676279e-04j\n",
       "    4.34200829e-04 -8.23316139e-04j  -1.26754645e-04 +3.29838093e-04j\n",
       "   -7.99383309e-04 +4.74423747e-04j   2.68458310e-04 -2.34719074e-04j\n",
       "    6.23920827e-04 +9.00607839e-06j  -2.36378779e-04 +5.58797086e-05j\n",
       "   -2.29307875e-04 -1.45297370e-04j   1.04195033e-04 +2.71995357e-05j\n",
       "    3.05369742e-05 +6.23746212e-05j  -2.07396763e-05 -1.91067445e-05j\n",
       "    7.62275964e-07 -7.92281372e-06j   1.09292448e-06 +3.13810980e-06j]\n",
       " [ -1.57438651e-04 +9.66242441e-05j   6.44222832e-05 -2.77125016e-05j\n",
       "    1.60665848e-03 +0.00000000e+00j  -6.04085685e-04 -4.72504739e-05j\n",
       "   -5.33776061e-03 -3.27356668e-03j   1.99385311e-03 +1.25627136e-03j\n",
       "    6.50976886e-03 +1.27915354e-02j  -2.70968185e-03 -4.68708273e-03j\n",
       "    1.68435676e-03 -2.12576383e-02j   3.18447924e-04 +8.08900513e-03j\n",
       "   -1.25282007e-02 +1.72211331e-02j   3.52484031e-03 -7.37005131e-03j\n",
       "    1.32120482e-02 -5.45881329e-03j  -4.46875192e-03 +3.31593187e-03j\n",
       "   -6.14119724e-03 -9.81885610e-04j   2.43903865e-03 -3.70857671e-04j\n",
       "    1.20733233e-03 +1.03623330e-03j  -6.09443022e-04 -2.14348539e-04j\n",
       "   -5.56829137e-05 -1.73637792e-04j   5.14100454e-05 +5.61478044e-05j]\n",
       " [  5.63535408e-05 -4.09597773e-05j  -2.34070593e-05 +1.23141969e-05j\n",
       "   -6.04085685e-04 +4.72504739e-05j   2.28519083e-04 +0.00000000e+00j\n",
       "    2.10321135e-03 +1.07384555e-03j  -7.86612437e-04 -4.13706490e-04j\n",
       "   -2.82378884e-03 -4.61802795e-03j   1.15665334e-03 +1.68260142e-03j\n",
       "   -8.13011816e-06 +8.04217063e-03j  -3.57623705e-04 -3.03201051e-03j\n",
       "    4.20400481e-03 -6.84339800e-03j  -1.10855367e-03 +2.87471975e-03j\n",
       "   -4.80704381e-03 +2.44100819e-03j   1.58268216e-03 -1.37817567e-03j\n",
       "    2.33789816e-03 +1.88570605e-04j  -9.06144743e-04 +2.11168426e-04j\n",
       "   -4.84418252e-04 -3.54105545e-04j   2.35447595e-04 +6.26694558e-05j\n",
       "    2.60426964e-05 +6.36482872e-05j  -2.09808639e-05 -1.95990226e-05j]\n",
       " [  3.26182528e-04 -6.41793524e-04j  -1.57564291e-04 +2.23328943e-04j\n",
       "   -5.33776061e-03 +3.27356668e-03j   2.10321135e-03 -1.07384555e-03j\n",
       "    2.44033985e-02 +0.00000000e+00j  -9.18378042e-03 -1.11202631e-04j\n",
       "   -4.76899932e-02 -2.92333386e-02j   1.85522383e-02 +1.00507989e-02j\n",
       "    3.77165428e-02 +7.40555880e-02j  -1.75393196e-02 -2.62250584e-02j\n",
       "    6.53406338e-03 -8.27395418e-02j   3.30599237e-03 +3.16671962e-02j\n",
       "   -3.27717197e-02 +4.50552251e-02j   8.09020960e-03 -2.01215183e-02j\n",
       "    2.24033354e-02 -9.25059591e-03j  -7.34753359e-03 +6.20163232e-03j\n",
       "   -6.12241486e-03 -9.82711882e-04j   2.46147221e-03 -5.29615469e-04j\n",
       "    5.38780932e-04 +4.63418482e-04j  -2.85199439e-04 -8.17904542e-05j]\n",
       " [ -1.19828375e-04 +2.43013822e-04j   5.82788123e-05 -8.47638305e-05j\n",
       "    1.99385311e-03 -1.25627136e-03j  -7.86612437e-04 +4.13706490e-04j\n",
       "   -9.18378042e-03 +1.11202631e-04j   3.45665743e-03 +0.00000000e+00j\n",
       "    1.80804837e-02 +1.07841254e-02j  -7.02760142e-03 -3.69789776e-03j\n",
       "   -1.45314032e-02 -2.76976209e-02j   6.72011133e-03 +9.78940532e-03j\n",
       "   -2.08194562e-03 +3.11673142e-02j  -1.38845348e-03 -1.19023152e-02j\n",
       "    1.21277378e-02 -1.71050600e-02j  -2.95291423e-03 +7.60923762e-03j\n",
       "   -8.38893903e-03 +3.58338415e-03j   2.73685230e-03 -2.36735447e-03j\n",
       "    2.30853886e-03 +3.41927027e-04j  -9.23917446e-04 +2.10527823e-04j\n",
       "   -2.04872249e-04 -1.71944072e-04j   1.07702390e-04 +2.94807563e-05j]\n",
       " [  1.31380261e-04 +1.64495667e-03j   4.03873810e-05 -6.25186939e-04j\n",
       "    6.50976886e-03 -1.27915354e-02j  -2.82378884e-03 +4.61802795e-03j\n",
       "   -4.76899932e-02 +2.92333386e-02j   1.80804837e-02 -1.07841254e-02j\n",
       "    1.28216713e-01 +0.00000000e+00j  -4.82955079e-02 +2.58248171e-03j\n",
       "   -1.62419744e-01 -9.95406447e-02j   6.56915077e-02 +3.02392303e-02j\n",
       "    8.63463177e-02 +1.69519859e-01j  -4.43954813e-02 -5.79248492e-02j\n",
       "    1.00710742e-02 -1.27306455e-01j   8.29380856e-03 +4.90136202e-02j\n",
       "   -3.26999171e-02 +4.49152664e-02j   6.92974830e-03 -2.09212147e-02j\n",
       "    1.31418528e-02 -5.41371742e-03j  -4.17585954e-03 +3.98364222e-03j\n",
       "   -1.60804358e-03 -2.60212069e-04j   6.55325419e-04 -1.81808512e-04j]\n",
       " [ -1.63551684e-05 -6.22253552e-04j  -2.78049783e-05 +2.34676279e-04j\n",
       "   -2.70968185e-03 +4.68708273e-03j   1.15665334e-03 -1.68260142e-03j\n",
       "    1.85522383e-02 -1.00507989e-02j  -7.02760142e-03 +3.69789776e-03j\n",
       "   -4.82955079e-02 -2.58248171e-03j   1.82435289e-02 +0.00000000e+00j\n",
       "    5.91738939e-02 +4.07654502e-02j  -2.41350165e-02 -1.27133669e-02j\n",
       "   -2.91097569e-02 -6.55923498e-02j   1.55557916e-02 +2.27127998e-02j\n",
       "   -6.35762858e-03 +4.77497935e-02j  -2.13682689e-03 -1.86290558e-02j\n",
       "    1.32217706e-02 -1.62596484e-02j  -3.03162014e-03 +7.74083754e-03j\n",
       "   -5.05919447e-03 +1.77449283e-03j   1.65316156e-03 -1.41641397e-03j\n",
       "    6.00462195e-04 +1.30402791e-04j  -2.50503935e-04 +5.52827191e-05j]\n",
       " [ -1.44348417e-03 -1.98176790e-03j   4.34200829e-04 +8.23316139e-04j\n",
       "    1.68435676e-03 +2.12576383e-02j  -8.13011816e-06 -8.04217063e-03j\n",
       "    3.77165428e-02 -7.40555880e-02j  -1.45314032e-02 +2.76976209e-02j\n",
       "   -1.62419744e-01 +9.95406447e-02j   5.91738939e-02 -4.07654502e-02j\n",
       "    2.83024830e-01 +0.00000000e+00j  -1.06691476e-01 +1.26935634e-02j\n",
       "   -2.40986235e-01 -1.47706205e-01j   1.01208176e-01 +3.89105621e-02j\n",
       "    8.60763398e-02 +1.69085314e-01j  -4.85578322e-02 -5.56495987e-02j\n",
       "    6.55310522e-03 -8.22833210e-02j   7.46379496e-03 +3.18820369e-02j\n",
       "   -1.24446449e-02 +1.70605146e-02j   2.19712172e-03 -8.28823232e-03j\n",
       "    2.23901938e-03 -9.18773495e-04j  -6.88993257e-04 +7.39067511e-04j]\n",
       " [  4.55266632e-04 +8.11804042e-04j  -1.26754645e-04 -3.29838093e-04j\n",
       "    3.18447924e-04 -8.08900513e-03j  -3.57623705e-04 +3.03201051e-03j\n",
       "   -1.75393196e-02 +2.62250584e-02j   6.72011133e-03 -9.78940532e-03j\n",
       "    6.56915077e-02 -3.02392303e-02j  -2.41350165e-02 +1.27133669e-02j\n",
       "   -1.06691476e-01 -1.26935634e-02j   4.07886392e-02 +0.00000000e+00j\n",
       "    8.42196749e-02 +6.64887497e-02j  -3.64071802e-02 -1.92072113e-02j\n",
       "   -2.48646616e-02 -6.76003489e-02j   1.58089137e-02 +2.31559534e-02j\n",
       "   -6.16069276e-03 +3.07243246e-02j  -1.38371834e-03 -1.23532756e-02j\n",
       "    5.45639850e-03 -5.87314055e-03j  -1.19997020e-03 +3.02586327e-03j\n",
       "   -8.85246687e-04 +2.45929540e-04j   2.92875746e-04 -2.47704148e-04j]\n",
       " [  2.26333227e-03 +9.34077822e-04j  -7.99383309e-04 -4.74423747e-04j\n",
       "   -1.25282007e-02 -1.72211331e-02j   4.20400481e-03 +6.84339800e-03j\n",
       "    6.53406338e-03 +8.27395418e-02j  -2.08194562e-03 -3.11673142e-02j\n",
       "    8.63463177e-02 -1.69519859e-01j  -2.91097569e-02 +6.55923498e-02j\n",
       "   -2.40986235e-01 +1.47706205e-01j   8.42196749e-02 -6.64887497e-02j\n",
       "    2.82277313e-01 +0.00000000e+00j  -1.06482207e-01 +1.96879037e-02j\n",
       "   -1.61534107e-01 -9.90486376e-02j   7.03880299e-02 +2.20422151e-02j\n",
       "    3.73626190e-02 +7.34814753e-02j  -2.29939066e-02 -2.32512575e-02j\n",
       "    1.69258737e-03 -2.10211255e-02j   2.45472189e-03 +8.20379758e-03j\n",
       "   -1.42695715e-03 +1.95081407e-03j   2.00947155e-04 -9.88866158e-04j]\n",
       " [ -7.88637882e-04 -5.10217895e-04j   2.68458310e-04 +2.34719074e-04j\n",
       "    3.52484031e-03 +7.37005131e-03j  -1.10855367e-03 -2.87471975e-03j\n",
       "    3.30599237e-03 -3.16671962e-02j  -1.38845348e-03 +1.19023152e-02j\n",
       "   -4.43954813e-02 +5.79248492e-02j   1.55557916e-02 -2.27127998e-02j\n",
       "    1.01208176e-01 -3.89105621e-02j  -3.64071802e-02 +1.92072113e-02j\n",
       "   -1.06482207e-01 -1.96879037e-02j   4.15409724e-02 +0.00000000e+00j\n",
       "    5.40264751e-02 +4.86301410e-02j  -2.50147903e-02 -1.32242171e-02j\n",
       "   -8.96904504e-03 -3.03250065e-02j   7.05219060e-03 +1.03747163e-02j\n",
       "   -2.10464074e-03 +7.81165274e-03j  -3.53796159e-04 -3.26589053e-03j\n",
       "    6.74347454e-04 -6.36371346e-04j  -1.44772521e-04 +3.59010159e-04j]\n",
       " [ -1.62295895e-03 +2.59654419e-04j   6.23920827e-04 -9.00607839e-06j\n",
       "    1.32120482e-02 +5.45881329e-03j  -4.80704381e-03 -2.44100819e-03j\n",
       "   -3.27717197e-02 -4.50552251e-02j   1.21277378e-02 +1.71050600e-02j\n",
       "    1.00710742e-02 +1.27306455e-01j  -6.35762858e-03 -4.77497935e-02j\n",
       "    8.60763398e-02 -1.69085314e-01j  -2.48646616e-02 +6.76003489e-02j\n",
       "   -1.61534107e-01 +9.90486376e-02j   5.40264751e-02 -4.86301410e-02j\n",
       "    1.27193715e-01 +0.00000000e+00j  -4.80141984e-02 +1.20848144e-02j\n",
       "   -4.71648860e-02 -2.89397964e-02j   2.13170002e-02 +5.23724693e-03j\n",
       "    6.40754027e-03 +1.26233212e-02j  -4.28336330e-03 -3.83330932e-03j\n",
       "    1.32057276e-04 -1.61706644e-03j   2.31991817e-04 +6.36392459e-04j]\n",
       " [  6.37318820e-04 +5.61824846e-05j  -2.36378779e-04 -5.58797086e-05j\n",
       "   -4.46875192e-03 -3.31593187e-03j   1.58268216e-03 +1.37817567e-03j\n",
       "    8.09020960e-03 +2.01215183e-02j  -2.95291423e-03 -7.60923762e-03j\n",
       "    8.29380856e-03 -4.90136202e-02j  -2.13682689e-03 +1.86290558e-02j\n",
       "   -4.85578322e-02 +5.56495987e-02j   1.58089137e-02 -2.31559534e-02j\n",
       "    7.03880299e-02 -2.20422151e-02j  -2.50147903e-02 +1.32242171e-02j\n",
       "   -4.80141984e-02 -1.20848144e-02j   1.92730119e-02 +0.00000000e+00j\n",
       "    1.50546127e-02 +1.54056355e-02j  -7.54933149e-03 -4.00235344e-03j\n",
       "   -1.21941886e-03 -5.37394935e-03j   1.25271459e-03 +1.85399824e-03j\n",
       "   -2.03489394e-04 +5.97877505e-04j  -2.71099586e-05 -2.62272799e-04j]\n",
       " [  5.42733796e-04 -4.65547157e-04j  -2.29307875e-04 +1.45297370e-04j\n",
       "   -6.14119724e-03 +9.81885610e-04j   2.33789816e-03 -1.88570605e-04j\n",
       "    2.24033354e-02 +9.25059591e-03j  -8.38893903e-03 -3.58338415e-03j\n",
       "   -3.26999171e-02 -4.49152664e-02j   1.32217706e-02 +1.62596484e-02j\n",
       "    6.55310522e-03 +8.22833210e-02j  -6.16069276e-03 -3.07243246e-02j\n",
       "    3.73626190e-02 -7.34814753e-02j  -8.96904504e-03 +3.03250065e-02j\n",
       "   -4.71648860e-02 +2.89397964e-02j   1.50546127e-02 -1.54056355e-02j\n",
       "    2.40738175e-02 +0.00000000e+00j  -9.09619427e-03 +2.90812710e-03j\n",
       "   -5.24811505e-03 -3.22299411e-03j   2.46049525e-03 +4.46861193e-04j\n",
       "    3.18955280e-04 +6.29673132e-04j  -2.30820647e-04 -1.83197588e-04j]\n",
       " [ -2.61308052e-04 +1.10342638e-04j   1.04195033e-04 -2.71995357e-05j\n",
       "    2.43903865e-03 +3.70857671e-04j  -9.06144743e-04 -2.11168426e-04j\n",
       "   -7.34753359e-03 -6.20163232e-03j   2.73685230e-03 +2.36735447e-03j\n",
       "    6.92974830e-03 +2.09212147e-02j  -3.03162014e-03 -7.74083754e-03j\n",
       "    7.46379496e-03 -3.18820369e-02j  -1.38371834e-03 +1.23532756e-02j\n",
       "   -2.29939066e-02 +2.32512575e-02j   7.05219060e-03 -1.03747163e-02j\n",
       "    2.13170002e-02 -5.23724693e-03j  -7.54933149e-03 +4.00235344e-03j\n",
       "   -9.09619427e-03 -2.90812710e-03j   3.78826306e-03 +0.00000000e+00j\n",
       "    1.59363996e-03 +1.85176972e-03j  -8.75707132e-04 -4.66073533e-04j\n",
       "   -4.44511842e-05 -2.76449368e-04j   6.50843010e-05 +9.71036951e-05j]\n",
       " [ -5.59891948e-05 +1.74150730e-04j   3.05369742e-05 -6.23746212e-05j\n",
       "    1.20733233e-03 -1.03623330e-03j  -4.84418252e-04 +3.54105545e-04j\n",
       "   -6.12241486e-03 +9.82711882e-04j   2.30853886e-03 -3.41927027e-04j\n",
       "    1.31418528e-02 +5.41371742e-03j  -5.05919447e-03 -1.77449283e-03j\n",
       "   -1.24446449e-02 -1.70605146e-02j   5.45639850e-03 +5.87314055e-03j\n",
       "    1.69258737e-03 +2.10211255e-02j  -2.10464074e-03 -7.81165274e-03j\n",
       "    6.40754027e-03 -1.26233212e-02j  -1.21941886e-03 +5.37394935e-03j\n",
       "   -5.24811505e-03 +3.22299411e-03j   1.59363996e-03 -1.85176972e-03j\n",
       "    1.57558737e-03 +0.00000000e+00j  -5.96215917e-04 +2.31994064e-04j\n",
       "   -1.53832969e-04 -9.45677208e-05j   7.48455480e-05 +9.03506184e-06j]\n",
       " [  4.68292564e-05 -5.76561338e-05j  -2.07396763e-05 +1.91067445e-05j\n",
       "   -6.09443022e-04 +2.14348539e-04j   2.35447595e-04 -6.26694558e-05j\n",
       "    2.46147221e-03 +5.29615469e-04j  -9.23917446e-04 -2.10527823e-04j\n",
       "   -4.17585954e-03 -3.98364222e-03j   1.65316156e-03 +1.41641397e-03j\n",
       "    2.19712172e-03 +8.28823232e-03j  -1.19997020e-03 -3.02586327e-03j\n",
       "    2.45472189e-03 -8.20379758e-03j  -3.53796159e-04 +3.26589053e-03j\n",
       "   -4.28336330e-03 +3.83330932e-03j   1.25271459e-03 -1.85399824e-03j\n",
       "    2.46049525e-03 -4.46861193e-04j  -8.75707132e-04 +4.66073533e-04j\n",
       "   -5.96215917e-04 -2.31994064e-04j   2.59772752e-04 +0.00000000e+00j\n",
       "    4.42873026e-05 +5.84360588e-05j  -2.69918554e-05 -1.44394218e-05j]\n",
       " [ -4.98611102e-06 -2.03637672e-05j   7.62275964e-07 +7.92281372e-06j\n",
       "   -5.56829137e-05 +1.73637792e-04j   2.60426964e-05 -6.36482872e-05j\n",
       "    5.38780932e-04 -4.63418482e-04j  -2.04872249e-04 +1.71944072e-04j\n",
       "   -1.60804358e-03 +2.60212069e-04j   6.00462195e-04 -1.30402791e-04j\n",
       "    2.23901938e-03 +9.18773495e-04j  -8.85246687e-04 -2.45929540e-04j\n",
       "   -1.42695715e-03 -1.95081407e-03j   6.74347454e-04 +6.36371346e-04j\n",
       "    1.32057276e-04 +1.61706644e-03j  -2.03489394e-04 -5.97877505e-04j\n",
       "    3.18955280e-04 -6.29673132e-04j  -4.44511842e-05 +2.76449368e-04j\n",
       "   -1.53832969e-04 +9.45677208e-05j   4.42873026e-05 -5.84360588e-05j\n",
       "    2.06955430e-05 +0.00000000e+00j  -7.84985861e-06 +3.61013463e-06j]\n",
       " [ -1.66101824e-06 +8.59379361e-06j   1.09292448e-06 -3.13810980e-06j\n",
       "    5.14100454e-05 -5.61478044e-05j  -2.09808639e-05 +1.95990226e-05j\n",
       "   -2.85199439e-04 +8.17904542e-05j   1.07702390e-04 -2.94807563e-05j\n",
       "    6.55325419e-04 +1.81808512e-04j  -2.50503935e-04 -5.52827191e-05j\n",
       "   -6.88993257e-04 -7.39067511e-04j   2.92875746e-04 +2.47704148e-04j\n",
       "    2.00947155e-04 +9.88866158e-04j  -1.44772521e-04 -3.59010159e-04j\n",
       "    2.31991817e-04 -6.36392459e-04j  -2.71099586e-05 +2.62272799e-04j\n",
       "   -2.30820647e-04 +1.83197588e-04j   6.50843010e-05 -9.71036951e-05j\n",
       "    7.48455480e-05 -9.03506184e-06j  -2.69918554e-05 +1.44394218e-05j\n",
       "   -7.84985861e-06 -3.61013463e-06j   3.60721882e-06 +0.00000000e+00j]]"
      ]
     },
     "execution_count": 10,
     "metadata": {},
     "output_type": "execute_result"
    }
   ],
   "source": [
    "finalstate"
   ]
  },
  {
   "cell_type": "markdown",
   "metadata": {
    "collapsed": true,
    "deletable": true,
    "editable": true
   },
   "source": [
    "Now this should be of the form $\\sum_{j=1}^N\\sum_{k=0}^{T-1}\\alpha_{k|j}\\frac{\\beta_j}{\\tilde{\\lambda}_k}\\left|\\tilde{\\lambda}_k\\right\\rangle\\left|u_j\\right\\rangle$. According to HHL, if phase estimation were perfect, $\\alpha_{k|j}=\\delta_{\\tilde{\\lambda}_k,\\lambda_j}$, so can we just take the elements with highest coefficients in the above state in order to get the state in the last equation of page 3 of HHL?"
   ]
  }
 ],
 "metadata": {
  "kernelspec": {
   "display_name": "Python 3",
   "language": "python",
   "name": "python3"
  },
  "language_info": {
   "codemirror_mode": {
    "name": "ipython",
    "version": 3
   },
   "file_extension": ".py",
   "mimetype": "text/x-python",
   "name": "python",
   "nbconvert_exporter": "python",
   "pygments_lexer": "ipython3",
   "version": "3.5.2"
  }
 },
 "nbformat": 4,
 "nbformat_minor": 2
}
