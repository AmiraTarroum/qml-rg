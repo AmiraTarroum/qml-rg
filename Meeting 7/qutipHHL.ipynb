{
 "cells": [
  {
   "cell_type": "code",
   "execution_count": null,
   "metadata": {
    "ExecuteTime": {
     "end_time": "2017-04-27T07:45:59.499157Z",
     "start_time": "2017-04-27T09:45:58.999933+02:00"
    }
   },
   "outputs": [],
   "source": [
    "from __future__ import print_function, division\n",
    "import qutip as qt\n",
    "import numpy as np\n",
    "import scipy.linalg as sp\n",
    "import math\n",
    "import cmath\n",
    "π = math.pi"
   ]
  },
  {
   "cell_type": "code",
   "execution_count": null,
   "metadata": {
    "ExecuteTime": {
     "end_time": "2017-04-27T07:45:59.515068Z",
     "start_time": "2017-04-27T09:45:59.500688+02:00"
    },
    "collapsed": true
   },
   "outputs": [],
   "source": [
    "def preprocess(mat, vec):\n",
    "\n",
    "    if mat.shape[0] != mat.shape[1] or mat.shape[0] != vec.shape[0]:\n",
    "        raise Exception(\"Matrix A should be square and b should have a matching dimension!\")\n",
    "        \n",
    "    if not mat.isherm:\n",
    "        zero_block = np.zeros(mat.shape)\n",
    "        mat = qt.Qobj(np.bmat([[zero_block, mat.full()] , \n",
    "                               [mat.dag().full(), zero_block]]))\n",
    "        vec = qt.Qobj(np.hstack([b_init.full().flatten(), zero_block[0]]))\n",
    "        \n",
    "    eigenvals, eigenvecs = mat.eigenstates()\n",
    "  \n",
    "    ### Normalise b and remember normalisation factor\n",
    "    if vec.norm() != 1:\n",
    "        nf = vec.norm()\n",
    "        vec = vec / nf\n",
    "    else:\n",
    "        nf = 1\n",
    "\n",
    "    return mat, vec, nf"
   ]
  },
  {
   "cell_type": "code",
   "execution_count": null,
   "metadata": {
    "ExecuteTime": {
     "end_time": "2017-04-27T07:45:59.544150Z",
     "start_time": "2017-04-27T09:45:59.516961+02:00"
    },
    "collapsed": true
   },
   "outputs": [],
   "source": [
    "def qft(N):\n",
    "    mat = 1 / math.sqrt(N) * qt.Qobj([[cmath.exp(1j * i * j / N)\n",
    "                                       for i in range(N)] for j in range(N)])\n",
    "    return mat\n",
    "\n",
    "\n",
    "def angle(k, t0, C):\n",
    "    return math.asin(C * t0 /(2 * π * k))\n",
    "\n",
    "\n",
    "def rot(k, t0, C):\n",
    "    return np.array([[math.cos(angle(k, t0, C)), math.sin(angle(k, t0, C))],\n",
    "                     [- math.sin(angle(k, t0, C)), math.cos(angle(k, t0, C))]])\n",
    "\n",
    "\n",
    "def cRot(N, t0, C):\n",
    "    mat = np.eye(2)\n",
    "    for k in range(1, N):\n",
    "        mat = sp.block_diag(mat, rot(k, t0, C))\n",
    "    rotationmat = qt.Qobj(mat)\n",
    "    rotationmat.dims =  [[N, 2], [N, 2]]\n",
    "    return rotationmat\n",
    "\n",
    "\n",
    "def inv(Quantobj):\n",
    "    mat = Quantobj.full()\n",
    "    matinv = np.linalg.inv(mat)\n",
    "    invQobj = qt.Qobj(matinv)\n",
    "    invQobj.dims = Quantobj.dims\n",
    "    return invQobj"
   ]
  },
  {
   "cell_type": "code",
   "execution_count": null,
   "metadata": {
    "ExecuteTime": {
     "end_time": "2017-04-27T07:45:59.572331Z",
     "start_time": "2017-04-27T09:45:59.546005+02:00"
    }
   },
   "outputs": [],
   "source": [
    "A_init = qt.Qobj([[2., 1.],[1., 2.]])\n",
    "b_init = qt.Qobj([[0.2] , [0.7]])\n",
    "prec = 100 # Choose the number of qubits (precision) to represent eigenvalues in the quantum algorithm\n",
    "\n",
    "# Produce a Hermitian matrix A of dimension 2^n x 2^n (n integer) with eigenvalues in ]0,1]\n",
    "# and a unit-length vector b of dimension 2^n out of the original inputs A and b \n",
    "A, b, nf1 = preprocess(A_init, b_init)\n",
    "\n",
    "# Some stuff needed for the classical simulation which the quantum system \n",
    "# does generically:\n",
    "eigenvals, eigenvecs = A.eigenstates()  # The eigendecomposition of A\n",
    "\n",
    "#Condition number, of use for estimating constants\n",
    "κ = eigenvals.max() / eigenvals.min()\n",
    "#Additive error achieved in the estimation of |x>, of use for estimating constants\n",
    "ϵ = 1"
   ]
  },
  {
   "cell_type": "markdown",
   "metadata": {},
   "source": [
    "### STEP 1: STATE PREPARATION OF b\n",
    "[HHL: page 2, column 2, center]\n",
    "\n",
    "Write b in the eigenbasis of A"
   ]
  },
  {
   "cell_type": "code",
   "execution_count": null,
   "metadata": {
    "ExecuteTime": {
     "end_time": "2017-04-27T07:45:59.587948Z",
     "start_time": "2017-04-27T09:45:59.574509+02:00"
    }
   },
   "outputs": [],
   "source": [
    " # Create the matrix that diagonalizes A\n",
    "diagonalizer = qt.Qobj(np.array([eigenvecs[i].full().T.flatten()\n",
    "                                 for i in range(len(eigenvals))]))\n",
    "b = diagonalizer * b"
   ]
  },
  {
   "cell_type": "markdown",
   "metadata": {},
   "source": [
    "### STEP 2: QUANTUM SIMULATION AND QUANTUM PHASE ESTIMATION\n",
    "[HHL: page 2, column 2, bottom]"
   ]
  },
  {
   "cell_type": "code",
   "execution_count": null,
   "metadata": {
    "ExecuteTime": {
     "end_time": "2017-04-27T07:45:59.820937Z",
     "start_time": "2017-04-27T09:45:59.589888+02:00"
    }
   },
   "outputs": [],
   "source": [
    "T = prec\n",
    "t0 = κ / ϵ    # It should be O(κ/ϵ), whatever that means\n",
    "ψ0 = qt.Qobj([[math.sqrt(2 / T) * math.sin(π * (τ + 0.5) / T)] \n",
    "                for τ in range(T)])\n",
    "\n",
    "# Order is b, τ, and then ancilla\n",
    "evo = qt.tensor(qt.identity(A.shape[0]), qt.ket2dm(qt.basis(T, 0))) \n",
    "\n",
    "for τ in range(1, T):\n",
    "    evo += qt.tensor((1j * A * τ * t0 / T).expm(), qt.ket2dm(qt.basis(T, τ)))\n",
    "\n",
    "ψev = evo * qt.tensor(b, ψ0)\n",
    "\n",
    "ftrans = qt.tensor(qt.identity(b.shape[0]), qft(T))\n",
    "\n",
    "ψfourier = ftrans * ψev    # This is Eq. 3 in HHL"
   ]
  },
  {
   "cell_type": "markdown",
   "metadata": {},
   "source": [
    "### STEP 3-1: Conditional Rotation of Ancilla"
   ]
  },
  {
   "cell_type": "code",
   "execution_count": null,
   "metadata": {
    "ExecuteTime": {
     "end_time": "2017-04-27T07:45:59.837373Z",
     "start_time": "2017-04-27T09:45:59.822534+02:00"
    }
   },
   "outputs": [],
   "source": [
    "total_state = qt.tensor(ψfourier, qt.basis(2, 0))   # Add ancilla for swapping\n",
    "\n",
    "C = 1 / κ    # Constant, should be O(1/κ)\n",
    "\n",
    "# Do conditional rotation only on τ and ancilla\n",
    "final_state = qt.tensor(qt.qeye(b.shape[0]), cRot(T, t0, C)) * total_state"
   ]
  },
  {
   "cell_type": "markdown",
   "metadata": {},
   "source": [
    "### STEP 3-2: Un-computation of the eigenvalue register"
   ]
  },
  {
   "cell_type": "code",
   "execution_count": null,
   "metadata": {
    "ExecuteTime": {
     "end_time": "2017-04-27T07:45:59.872874Z",
     "start_time": "2017-04-27T09:45:59.839696+02:00"
    }
   },
   "outputs": [],
   "source": [
    "### Undo Fourier transform\n",
    "undo_ftrans = qt.tensor(qt.identity(b.shape[0]), inv(qft(T)), qt.identity(2))\n",
    "ψev_undone = undo_ftrans * final_state\n",
    "\n",
    "### Undo evolution\n",
    "undo_evo = qt.tensor(inv(evo), qt.identity(2))\n",
    "\n",
    "ψ0_with_eiginfo = undo_evo * ψev_undone"
   ]
  },
  {
   "cell_type": "markdown",
   "metadata": {},
   "source": [
    "### STEP 3-3: Post-selection on $\\left|1\\right\\rangle$ on the ancilla register\n",
    "We perform the post selection by projecting onto the desired ancilla state and later tracing out the ancilla and the $\\left|\\ψ_0\\right\\rangle$ registers."
   ]
  },
  {
   "cell_type": "code",
   "execution_count": null,
   "metadata": {
    "ExecuteTime": {
     "end_time": "2017-04-27T07:45:59.921419Z",
     "start_time": "2017-04-27T09:45:59.874610+02:00"
    },
    "scrolled": false
   },
   "outputs": [],
   "source": [
    "projector = qt.tensor(qt.identity(b.shape[0]), qt.identity(T), qt.ket2dm(qt.basis(2, 1)))\n",
    "postsel = projector * ψ0_with_eiginfo\n",
    "prob1 = qt.expect(projector, ψ0_with_eiginfo)\n",
    "# Trace out ancilla and τ registers, leaving only the b register\n",
    "finalstate = postsel.ptrace([0]) / prob1\n",
    "finalstate.eigenenergies()"
   ]
  },
  {
   "cell_type": "markdown",
   "metadata": {},
   "source": [
    "$\\left|finalstate\\right\\rangle$ is essentially a pure state (it should be if all the process was perfect), so now we just isolate that main part, that is our $\\left|x\\right\\rangle$ (after a transformation if our original A was not Hermitian) in the basis that diagonalizes $A$."
   ]
  },
  {
   "cell_type": "code",
   "execution_count": null,
   "metadata": {
    "ExecuteTime": {
     "end_time": "2017-04-27T07:45:59.922294Z",
     "start_time": "2017-04-27T07:45:59.047Z"
    },
    "scrolled": true
   },
   "outputs": [],
   "source": [
    "fsevls, fsevcs = finalstate.eigenstates()\n",
    "x = math.sqrt(fsevls.max()) * fsevcs[fsevls.argmax()]\n",
    "x"
   ]
  },
  {
   "cell_type": "markdown",
   "metadata": {},
   "source": [
    "This state is supposed to be $\\left|x\\right\\rangle=A^{-1}\\left|b\\right\\rangle=\\sum_j \\beta_j\\lambda_j^{-1}\\left|u_j\\right\\rangle$, although I don't understand why it has complex numbers.\n",
    "\n",
    "IMPORTANT NOTE: If A_init is not Hermitian, the output $\\left|x\\right\\rangle$ has dimension double than the input b_init. It is to be interpreted as the representation of the vector (0, x) in the basis that diagonalizes $C = [[0,\\,A], [A^{\\dagger},\\, 0]]$"
   ]
  }
 ],
 "metadata": {
  "kernelspec": {
   "display_name": "Python 3",
   "language": "python",
   "name": "python3"
  },
  "language_info": {
   "codemirror_mode": {
    "name": "ipython",
    "version": 3
   },
   "file_extension": ".py",
   "mimetype": "text/x-python",
   "name": "python",
   "nbconvert_exporter": "python",
   "pygments_lexer": "ipython3",
   "version": "3.6.1"
  }
 },
 "nbformat": 4,
 "nbformat_minor": 2
}
