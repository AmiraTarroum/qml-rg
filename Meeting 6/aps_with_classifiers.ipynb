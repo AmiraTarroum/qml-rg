{
 "cells": [
  {
   "cell_type": "markdown",
   "metadata": {},
   "source": [
    "# Solving the Captcha problem with Random Forest and Suppor Vector"
   ]
  },
  {
   "cell_type": "markdown",
   "metadata": {},
   "source": [
    "To be able to run this notebook you should have place in the folder Peter's program __image_loader.py__ and the folder __images__ used last week"
   ]
  },
  {
   "cell_type": "code",
   "execution_count": 8,
   "metadata": {
    "collapsed": false
   },
   "outputs": [],
   "source": [
    "import numpy as np\n",
    "import os\n",
    "from skimage.transform import resize\n",
    "from sklearn.ensemble import RandomForestClassifier\n",
    "from sklearn import svm\n",
    "import image_loader as im\n",
    "from matplotlib import pyplot as plt\n",
    "%matplotlib inline"
   ]
  },
  {
   "cell_type": "code",
   "execution_count": 4,
   "metadata": {
    "collapsed": false
   },
   "outputs": [],
   "source": [
    "path=os.getcwd()+'/' # finds the path of the folder in which the notebook is\n",
    "path_train=path+'images/train/'\n",
    "path_test=path+'images/test/'\n",
    "path_real=path+'images/real_world/'"
   ]
  },
  {
   "cell_type": "markdown",
   "metadata": {},
   "source": [
    "We define the function __prep_datas__ (props to Alexandre), already used the previous week. However now we reshape the images from a 32x32 matrix (this value seems unnecessary, however the bigger the image the worst the classifiers will work) to a flat 1024 vector, a constraint given by the Random Forest classifier."
   ]
  },
  {
   "cell_type": "code",
   "execution_count": 5,
   "metadata": {
    "collapsed": true
   },
   "outputs": [],
   "source": [
    "def prep_datas(xset,xlabels):\n",
    "    X=list(xset)\n",
    "    for i in range(len(X)):\n",
    "        X[i]=resize(X[i],(32,32,1)) # reduce the size of the image from 100X100 to 32X32. Also flattens the color levels\n",
    "        X[i]=np.reshape(X[i],1024) # reshape from 32x32 to a flat 1024 vector\n",
    "    X=np.array(X) # transforms it into an array\n",
    "    Y=np.asarray(xlabels) # transforms from list to array\n",
    "    return X,Y"
   ]
  },
  {
   "cell_type": "markdown",
   "metadata": {},
   "source": [
    "Then we load the training and the test set:"
   ]
  },
  {
   "cell_type": "code",
   "execution_count": 6,
   "metadata": {
    "collapsed": false,
    "scrolled": true
   },
   "outputs": [],
   "source": [
    "training_set, training_labels = im.load_images(path_train)\n",
    "X_train, Y_train = prep_datas(training_set,training_labels)\n",
    "\n",
    "test_set, test_labels = im.load_images(path_test)\n",
    "X_test,Y_test=prep_datas(test_set,test_labels)"
   ]
  },
  {
   "cell_type": "markdown",
   "metadata": {},
   "source": [
    "We define the classifiers Random Forest Classifier and Support Machine Classifier and we train them throught the fit function. Taking a linear kernel for SVC gives the best results for this classifier."
   ]
  },
  {
   "cell_type": "code",
   "execution_count": 14,
   "metadata": {
    "collapsed": false,
    "scrolled": false
   },
   "outputs": [
    {
     "data": {
      "text/plain": [
       "SVC(C=1.0, cache_size=200, class_weight=None, coef0=0.0,\n",
       "  decision_function_shape=None, degree=3, gamma='auto', kernel='linear',\n",
       "  max_iter=-1, probability=False, random_state=None, shrinking=True,\n",
       "  tol=0.001, verbose=False)"
      ]
     },
     "execution_count": 14,
     "metadata": {},
     "output_type": "execute_result"
    }
   ],
   "source": [
    "classifierForest = RandomForestClassifier(n_estimators=1000)\n",
    "classifierSVC=svm.SVC(kernel='linear')\n",
    "\n",
    "classifierForest.fit(X_train, Y_train) \n",
    "classifierSVC.fit(X_train,Y_train) "
   ]
  },
  {
   "cell_type": "markdown",
   "metadata": {},
   "source": [
    "Let's test how good the system is doing"
   ]
  },
  {
   "cell_type": "code",
   "execution_count": 10,
   "metadata": {
    "collapsed": false
   },
   "outputs": [
    {
     "name": "stdout",
     "output_type": "stream",
     "text": [
      "[0 0 0 0 1 0]\n",
      "[0 0 0 0 1 0]\n",
      "[0 0 0 0 1 0]\n"
     ]
    }
   ],
   "source": [
    "expectedF = Y_test\n",
    "predictedF = classifierForest.predict(X_test)\n",
    "predictedS = classifierSVC.predict(X_test)\n",
    "\n",
    "print(expectedF)\n",
    "print(predictedF)\n",
    "print(predictedS)"
   ]
  },
  {
   "cell_type": "markdown",
   "metadata": {},
   "source": [
    "Now we load the real set of images and test it. This part of the program has been taken from [Alexandre's program](https://github.com/peterwittek/qml-rg/blob/master/Meeting%205/aps_capcha.ipynb) from last week. First we load the 'real world' images"
   ]
  },
  {
   "cell_type": "code",
   "execution_count": 15,
   "metadata": {
    "collapsed": false
   },
   "outputs": [],
   "source": [
    "real_world_set=[]\n",
    "for i in np.arange(1,73):\n",
    "    filename=path+'images/real_world/'+str(i)+'.png'\n",
    "    real_world_set.append(im.deshear(filename))\n",
    "fake_label=np.ones(len(real_world_set),dtype='int32')\n",
    "X_real,Y_real=prep_datas(real_world_set,fake_label)"
   ]
  },
  {
   "cell_type": "markdown",
   "metadata": {},
   "source": [
    "Then we make the predictions with both classifiers"
   ]
  },
  {
   "cell_type": "code",
   "execution_count": 16,
   "metadata": {
    "collapsed": true
   },
   "outputs": [],
   "source": [
    "y_predF = classifierForest.predict(X_real)\n",
    "y_predS = classifierSVC.predict(X_real)"
   ]
  },
  {
   "cell_type": "markdown",
   "metadata": {},
   "source": [
    "Finally we plot the results"
   ]
  },
  {
   "cell_type": "code",
   "execution_count": 17,
   "metadata": {
    "collapsed": false
   },
   "outputs": [
    {
     "data": {
      "image/png": "[encoded data removed]",
      "text/plain": [
       "<matplotlib.figure.Figure at 0x7eff16c65f60>"
      ]
     },
     "metadata": {},
     "output_type": "display_data"
    }
   ],
   "source": [
    "f=open(path+'images/real_world/labels.txt',\"r\")\n",
    "lines=f.readlines()\n",
    "result=[]\n",
    "for x in lines:\n",
    "    result.append((x.split('\t')[1]).replace('\\n',''))\n",
    "f.close()\n",
    "\n",
    "result=np.array([int(x) for x in result])\n",
    "result[result>1]=1\n",
    "plt.plot(y_predF,'o')\n",
    "plt.plot(1.2*y_predS,'o')\n",
    "plt.plot(2*result,'o')\n",
    "plt.ylim(-0.5,2.5);"
   ]
  },
  {
   "cell_type": "markdown",
   "metadata": {},
   "source": [
    "As we can see, __SVC__ (orange dots) seems much more efficient than __Random Forest__ (blue dots). Different paremeters for the classifiers may improve the efficiency of RandomForest eventough differents sets were tried and all seemed to have errors. Data augmentation should also help to solve the problem."
   ]
  }
 ],
 "metadata": {
  "kernelspec": {
   "display_name": "Python 3",
   "language": "python",
   "name": "python3"
  },
  "language_info": {
   "codemirror_mode": {
    "name": "ipython",
    "version": 3
   },
   "file_extension": ".py",
   "mimetype": "text/x-python",
   "name": "python",
   "nbconvert_exporter": "python",
   "pygments_lexer": "ipython3",
   "version": "3.6.0"
  }
 },
 "nbformat": 4,
 "nbformat_minor": 2
}
