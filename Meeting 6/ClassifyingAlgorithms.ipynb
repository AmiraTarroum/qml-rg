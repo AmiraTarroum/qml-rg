{
 "cells": [
  {
   "cell_type": "markdown",
   "metadata": {
    "deletable": true,
    "editable": true
   },
   "source": [
    "# QML-RG Homework 5\n",
    "### Alejandro Pozas-Kerstjens"
   ]
  },
  {
   "cell_type": "code",
   "execution_count": 1,
   "metadata": {
    "collapsed": false,
    "deletable": true,
    "editable": true
   },
   "outputs": [
    {
     "name": "stderr",
     "output_type": "stream",
     "text": [
      "Using TensorFlow backend.\n"
     ]
    }
   ],
   "source": [
    "# Loading libraries, preprocessing images and definig parameters\n",
    "import os\n",
    "from keras.preprocessing.image import ImageDataGenerator\n",
    "from image_loader import load_images\n",
    "from numpy import loadtxt, floor, argmax, asarray, zeros\n",
    "import numpy as np\n",
    "import keras.backend as K\n",
    "\n",
    "K.set_image_data_format('channels_first')\n",
    "\n",
    "def preprocess(image):\n",
    "    im = image.reshape((100,100))\n",
    "    return np.ndarray.flatten(im)\n",
    "\n",
    "## Preprocess images: training set\n",
    "train_images, train_labels = load_images('images/train/')\n",
    "\n",
    "width = train_images[0].shape[0]\n",
    "height = train_images[0].shape[1]\n",
    "                                                                                                                                                                                                                                                                                                                                                                                                                                                                                                                                                                                                                                                                                                                                                                                                                                                                                                                                                                                                                                                                                                                                                                                                                                                                                                                                                                                                                                                                                \n",
    "# Some images (baseball, boat, booth and curie) have different shapes than the rest. This is an attempt to fix this\n",
    "for i in range(len(train_images)):\n",
    "    if train_images[i].shape != (width, height):\n",
    "        train_images[i] = train_images[i][:,:,0]\n",
    "\n",
    "for i in range(len(train_images)):    # Add a third dimension (number of channels) for datagen not to complain\n",
    "    train_images[i] = train_images[i].reshape((1,) + train_images[i].shape)\n",
    "\n",
    "for _ in range(8):\n",
    "    train_images.append(train_images[6])    # Further post-processing: evening-out appearances\n",
    "    train_images.append(train_images[7])    # of both types of classes, useful for a correct\n",
    "    train_labels.append(1)                  # data augmentation\n",
    "    train_labels.append(1)\n",
    "\n",
    "train_images_flat = []\n",
    "for i in range(len(train_images)):\n",
    "    train_images_flat.append(preprocess(train_images[i]))\n",
    "\n",
    "\n",
    "train_images = asarray(train_images)\n",
    "train_images_flat = asarray(train_images_flat)\n",
    "train_labels = asarray(train_labels)\n",
    "\n",
    "train_images = train_images / 255\n",
    "train_images_flat = train_images_flat / 255\n",
    "\n",
    "## Preprocess images: test set\n",
    "test_images, _ = load_images('images/test/')\n",
    "\n",
    "for i in range(len(test_images)):\n",
    "    test_images[i] = test_images[i].reshape((1,) + test_images[i].shape)\n",
    "\n",
    "test_images_flat = []\n",
    "for i in range(len(test_images)):\n",
    "    test_images_flat.append(preprocess(test_images[i]))\n",
    "\n",
    "test_names = []    # Fancy stuff to feed the output\n",
    "for file in os.listdir('images/test/'):\n",
    "    if file.endswith(\".png\"):\n",
    "            test_names.append(file)\n",
    "\n",
    "## Preprocess images: real_world set\n",
    "rw_images, _ = load_images('images/real_world/')\n",
    "\n",
    "for i in range(len(rw_images)):    # We just eliminate additional channels and additional rows symmetrically\n",
    "    if rw_images[i].shape != (rw_images[i].shape[0], rw_images[i].shape[1]):\n",
    "        rw_images[i] = rw_images[i][:,:,0]\n",
    "    if rw_images[i].shape != (100, 100):\n",
    "        offset = int(floor((rw_images[i].shape[1]-100-rw_images[i].shape[1] % 2) / 2))\n",
    "        rw_images[i] = rw_images[i][:,offset:rw_images[i].shape[1]-offset-(rw_images[i].shape[1] % 2)]\n",
    "\n",
    "for i in range(len(rw_images)):\n",
    "    rw_images[i] = rw_images[i].reshape((1,) + rw_images[i].shape)\n",
    "\n",
    "rw_images_flat = []\n",
    "for i in range(len(rw_images)):\n",
    "    rw_images_flat.append(preprocess(rw_images[i]))\n",
    "\n",
    "rw_images_flat = asarray(rw_images_flat)\n",
    "rw_names = []    # Fancy stuff to feed the output\n",
    "for file in os.listdir('images/real_world/'):\n",
    "    if file.endswith(\".png\"):\n",
    "            rw_names.append(file)"
   ]
  },
  {
   "cell_type": "markdown",
   "metadata": {
    "deletable": true,
    "editable": true
   },
   "source": [
    "## Random Forests\n",
    "\n",
    "A nice intro to decision trees and random forests can be found in https://www.analyticsvidhya.com/blog/2016/04/complete-tutorial-tree-based-modeling-scratch-in-python/"
   ]
  },
  {
   "cell_type": "code",
   "execution_count": 2,
   "metadata": {
    "collapsed": false,
    "deletable": true,
    "editable": true
   },
   "outputs": [],
   "source": [
    "from sklearn.ensemble import RandomForestClassifier\n",
    "\n",
    "forest = RandomForestClassifier(n_estimators=30)    # Create the random forest"
   ]
  },
  {
   "cell_type": "code",
   "execution_count": 3,
   "metadata": {
    "collapsed": false,
    "deletable": true,
    "editable": true
   },
   "outputs": [
    {
     "name": "stdout",
     "output_type": "stream",
     "text": [
      "[0 0 0 0 0 0]\n",
      "Successes in real_world set: 58 out of 72\n",
      "Identified correctly 1 out of 9 Einsteins and Curies\n"
     ]
    }
   ],
   "source": [
    "# Training with the plain test images\n",
    "\n",
    "forest.fit(train_images_flat, train_labels)\n",
    "\n",
    "print(forest.predict(test_images_flat))\n",
    "rw_pred_labels = forest.predict(rw_images_flat)\n",
    "rw_real_labels = loadtxt('images/real_world/labels.txt')\n",
    "tot = 0\n",
    "eins = 0\n",
    "for i in range(len(rw_real_labels)):\n",
    "    if rw_real_labels[i][1] == rw_pred_labels[i] | (rw_real_labels[i][1] == 2 & rw_pred_labels[i] == 1):\n",
    "        tot += 1\n",
    "    if ((int(rw_real_labels[i][1]) == 2) | (int(rw_real_labels[i][1]) == 1)) & int(rw_pred_labels[i]) == 1:\n",
    "        eins += 1\n",
    "print('Successes in real_world set: {} out of {}'.format(tot,len(rw_real_labels)))\n",
    "print('Identified correctly {} out of 9 Einsteins and Curies'.format(eins))"
   ]
  },
  {
   "cell_type": "code",
   "execution_count": 4,
   "metadata": {
    "collapsed": false,
    "deletable": true,
    "editable": true
   },
   "outputs": [
    {
     "name": "stdout",
     "output_type": "stream",
     "text": [
      "[0 0 0 0 0 0]\n",
      "Successes in real_world set: 63 out of 72\n",
      "Identified correctly 0 out of 9 Einsteins and Curies\n"
     ]
    }
   ],
   "source": [
    "# Training with data augmentation\n",
    "\n",
    "datagen = ImageDataGenerator(rotation_range=10, shear_range=0.3, zoom_range=0.2,\n",
    "                             width_shift_range=0.15, height_shift_range=0.15, fill_mode='constant', cval=1)\n",
    "# Adapting the data augmentation to the forest format\n",
    "X_train = []\n",
    "y_train = []\n",
    "t = 0\n",
    "nrounds = 50    # Number (times the size of our original training set) of actual training points\n",
    "for X_batch, y_batch in datagen.flow(train_images, train_labels, batch_size=41 * nrounds):\n",
    "    for i in range(41):\n",
    "        X_train.append(preprocess(X_batch[i]))\n",
    "        y_train.append(y_batch[i])\n",
    "    t +=1\n",
    "    if t == nrounds:\n",
    "        break\n",
    "\n",
    "X_train = asarray(X_train)\n",
    "X_train = X_train / 255\n",
    "y_train = asarray(y_train)\n",
    "\n",
    "forest.fit(X_train, y_train)\n",
    "\n",
    "print(forest.predict(test_images_flat))\n",
    "rw_pred_labels = forest.predict(rw_images_flat)\n",
    "rw_real_labels = loadtxt('images/real_world/labels.txt')\n",
    "tot = 0\n",
    "eins = 0\n",
    "for i in range(len(rw_real_labels)):\n",
    "    if rw_real_labels[i][1] == rw_pred_labels[i] | (rw_real_labels[i][1] == 2 & rw_pred_labels[i] == 1):\n",
    "        tot += 1\n",
    "    if ((int(rw_real_labels[i][1]) == 2) | (int(rw_real_labels[i][1]) == 1)) & int(rw_pred_labels[i]) == 1:\n",
    "        eins += 1\n",
    "print('Successes in real_world set: {} out of {}'.format(tot,len(rw_real_labels)))\n",
    "print('Identified correctly {} out of 9 Einsteins and Curies'.format(eins))"
   ]
  },
  {
   "cell_type": "code",
   "execution_count": 5,
   "metadata": {
    "collapsed": false
   },
   "outputs": [
    {
     "data": {
      "image/png": "[encoded data removed]",
      "text/plain": [
       "<matplotlib.figure.Figure at 0xc8be898>"
      ]
     },
     "metadata": {},
     "output_type": "display_data"
    }
   ],
   "source": [
    "import numpy as np\n",
    "import matplotlib.pyplot as plt\n",
    "\n",
    "# Parameters\n",
    "n_estimators = [30, 60, 90, 120]\n",
    "\n",
    "X = []\n",
    "\n",
    "for i in range(len(train_images_flat)):\n",
    "    X.append([train_images_flat[i][3333], train_images_flat[i][6666]])\n",
    "    \n",
    "X = asarray(X)\n",
    "\n",
    "# Now plot the decision boundary using a fine mesh as input to a\n",
    "# filled contour plot\n",
    "x_min, x_max = X[:, 0].min() - 1, X[:, 0].max() + 1\n",
    "y_min, y_max = X[:, 1].min() - 1, X[:, 1].max() + 1\n",
    "xx, yy = np.meshgrid(np.arange(x_min, x_max, 1),\n",
    "                     np.arange(y_min, y_max, 1))\n",
    "\n",
    "\n",
    "for i, n_estimators in enumerate(n_estimators):\n",
    "    forest = RandomForestClassifier(n_estimators=n_estimators)\n",
    "    \n",
    "    clf = forest.fit(X, train_labels)\n",
    "    \n",
    "    Z = forest.predict(np.c_[xx.ravel(), yy.ravel()])\n",
    "    \n",
    "    plt.subplot(2, 2, i + 1)\n",
    "    plt.subplots_adjust(wspace=0.4, hspace=0.4)\n",
    "\n",
    "    Z = clf.predict(np.c_[xx.ravel(), yy.ravel()])\n",
    "\n",
    "    # Put the result into a color plot\n",
    "    Z = Z.reshape(xx.shape)\n",
    "    plt.contourf(xx, yy, Z, cmap=plt.cm.coolwarm, alpha=0.8)\n",
    "    \n",
    "    # Plot also the training points\n",
    "    plt.scatter(X[:, 0], X[:, 1], c=train_labels, cmap=plt.cm.coolwarm)\n",
    "    plt.xlabel('Pixel 1')\n",
    "    plt.ylabel('Pixel 2')\n",
    "    plt.xlim(xx.min(), xx.max())\n",
    "    plt.ylim(yy.min(), yy.max())\n",
    "    plt.xticks(())\n",
    "    plt.yticks(())\n",
    "    plt.title('{} estimators'.format(n_estimators))\n",
    "\n",
    "plt.show()"
   ]
  },
  {
   "cell_type": "markdown",
   "metadata": {
    "deletable": true,
    "editable": true
   },
   "source": [
    "## Support Vector Machines"
   ]
  },
  {
   "cell_type": "code",
   "execution_count": 6,
   "metadata": {
    "collapsed": false,
    "deletable": true,
    "editable": true
   },
   "outputs": [],
   "source": [
    "from sklearn import svm\n",
    "\n",
    "svmachine = svm.SVC(kernel='linear', gamma=1, C=10) "
   ]
  },
  {
   "cell_type": "code",
   "execution_count": 7,
   "metadata": {
    "collapsed": false,
    "deletable": true,
    "editable": true
   },
   "outputs": [
    {
     "name": "stdout",
     "output_type": "stream",
     "text": [
      "[1 0 0 0 0 0]\n",
      "Successes in real_world set: 51 out of 72\n",
      "Identified correctly 2 out of 9 Einsteins and Curies\n"
     ]
    }
   ],
   "source": [
    "# Training with unmodified test images\n",
    "\n",
    "svmachine.fit(train_images_flat, train_labels)\n",
    "\n",
    "print(svmachine.predict(test_images_flat))\n",
    "rw_pred_labels = svmachine.predict(rw_images_flat)\n",
    "rw_real_labels = loadtxt('images/real_world/labels.txt')\n",
    "tot = 0\n",
    "eins = 0\n",
    "for i in range(len(rw_real_labels)):\n",
    "    if rw_real_labels[i][1] == rw_pred_labels[i] | (rw_real_labels[i][1] == 2 & rw_pred_labels[i] == 1):\n",
    "        tot += 1\n",
    "    if ((int(rw_real_labels[i][1]) == 2) | (int(rw_real_labels[i][1]) == 1)) & int(rw_pred_labels[i]) == 1:\n",
    "        eins += 1\n",
    "print('Successes in real_world set: {} out of {}'.format(tot,len(rw_real_labels)))\n",
    "print('Identified correctly {} out of 9 Einsteins and Curies'.format(eins))"
   ]
  },
  {
   "cell_type": "code",
   "execution_count": 8,
   "metadata": {
    "collapsed": false,
    "deletable": true,
    "editable": true,
    "scrolled": true
   },
   "outputs": [
    {
     "name": "stdout",
     "output_type": "stream",
     "text": [
      "[0 0 0 0 1 0]\n",
      "Successes in real_world set: 56 out of 72\n",
      "Identified correctly 0 out of 9 Einsteins and Curies\n"
     ]
    }
   ],
   "source": [
    "# Training with data augmentation\n",
    "\n",
    "datagen = ImageDataGenerator(rotation_range=10, shear_range=0.3, zoom_range=0.2,\n",
    "                             width_shift_range=0.15, height_shift_range=0.15, fill_mode='constant', cval=1)\n",
    "# Adapting the data augmentation to the svm format\n",
    "X_train = []\n",
    "y_train = []\n",
    "t = 0\n",
    "nrounds = 50    # Number (times the size of our original training set) of actual training points\n",
    "for X_batch, y_batch in datagen.flow(train_images, train_labels, batch_size=41 * nrounds):\n",
    "    for i in range(41):\n",
    "        X_train.append(preprocess(X_batch[i]))\n",
    "        y_train.append(y_batch[i])\n",
    "    t +=1\n",
    "    if t == nrounds:\n",
    "        break\n",
    "\n",
    "X_train = asarray(X_train)\n",
    "X_train = X_train / 255\n",
    "y_train = asarray(y_train)\n",
    "\n",
    "svmachine.fit(X_train, y_train)\n",
    "\n",
    "print(svmachine.predict(test_images_flat))\n",
    "rw_pred_labels = svmachine.predict(rw_images_flat)\n",
    "rw_real_labels = loadtxt('images/real_world/labels.txt')\n",
    "tot = 0\n",
    "eins = 0\n",
    "for i in range(len(rw_real_labels)):\n",
    "    if rw_real_labels[i][1] == rw_pred_labels[i] | (rw_real_labels[i][1] == 2 & rw_pred_labels[i] == 1):\n",
    "        tot += 1\n",
    "    if ((int(rw_real_labels[i][1]) == 2) | (int(rw_real_labels[i][1]) == 1)) & int(rw_pred_labels[i]) == 1:\n",
    "        eins += 1\n",
    "print('Successes in real_world set: {} out of {}'.format(tot,len(rw_real_labels)))\n",
    "print('Identified correctly {} out of 9 Einsteins and Curies'.format(eins))"
   ]
  },
  {
   "cell_type": "code",
   "execution_count": 9,
   "metadata": {
    "collapsed": false,
    "scrolled": true
   },
   "outputs": [
    {
     "data": {
      "image/png": "[encoded data removed]",
      "text/plain": [
       "<matplotlib.figure.Figure at 0xc8be4a8>"
      ]
     },
     "metadata": {},
     "output_type": "display_data"
    }
   ],
   "source": [
    "# Example of decision boundary visualization: We train the SVM to identify the images by two pixels\n",
    "\n",
    "import matplotlib.pyplot as plt\n",
    "\n",
    "X = []\n",
    "\n",
    "for i in range(len(train_images_flat)):\n",
    "    X.append([train_images_flat[i][3333], train_images_flat[i][6666]])\n",
    "    \n",
    "X = asarray(X)\n",
    "    \n",
    "C = 1.0  # SVM regularization parameter\n",
    "svc = svm.SVC(kernel='linear', C=C).fit(X, train_labels)\n",
    "rbf_svc = svm.SVC(kernel='rbf', gamma=0.7, C=C).fit(X, train_labels)\n",
    "poly_svc = svm.SVC(kernel='poly', degree=3, C=C).fit(X, train_labels)\n",
    "lin_svc = svm.LinearSVC(C=C).fit(X, train_labels)\n",
    "\n",
    "# create a mesh to plot in\n",
    "x_min, x_max = X[:, 0].min() - 1, X[:, 0].max() + 1\n",
    "y_min, y_max = X[:, 1].min() - 1, X[:, 1].max() + 1\n",
    "xx, yy = np.meshgrid(np.arange(x_min, x_max, 1),\n",
    "                     np.arange(y_min, y_max, 1))\n",
    "\n",
    "# title for the plots\n",
    "titles = ['SVC with linear kernel',\n",
    "          'LinearSVC (linear kernel)',\n",
    "          'SVC with RBF kernel',\n",
    "          'SVC with polynomial (degree 3) kernel']\n",
    "\n",
    "\n",
    "for i, clf in enumerate((svc, lin_svc, rbf_svc, poly_svc)):\n",
    "    # Plot the decision boundary. For that, we will assign a color to each\n",
    "    # point in the mesh [x_min, x_max]x[y_min, y_max].\n",
    "    plt.subplot(2, 2, i + 1)\n",
    "    plt.subplots_adjust(wspace=0.4, hspace=0.4)\n",
    "\n",
    "    Z = clf.predict(np.c_[xx.ravel(), yy.ravel()])\n",
    "\n",
    "    # Put the result into a color plot\n",
    "    Z = Z.reshape(xx.shape)\n",
    "    plt.contourf(xx, yy, Z, cmap=plt.cm.coolwarm, alpha=0.8)\n",
    "\n",
    "    # Plot also the training points\n",
    "    plt.scatter(X[:, 0], X[:, 1], c=train_labels, cmap=plt.cm.coolwarm)\n",
    "    plt.xlabel('Pixel 1')\n",
    "    plt.ylabel('Pixel 2')\n",
    "    plt.xlim(xx.min(), xx.max())\n",
    "    plt.ylim(yy.min(), yy.max())\n",
    "    plt.xticks(())\n",
    "    plt.yticks(())\n",
    "    plt.title(titles[i])\n",
    "\n",
    "plt.show()"
   ]
  },
  {
   "cell_type": "markdown",
   "metadata": {
    "collapsed": false,
    "deletable": true,
    "editable": true
   },
   "source": [
    "As we can see, support vector machines appear to do a better job than random forests in this specific problem, but comparing with the previous homework it looks like nowadays nothing compares to a good deep network"
   ]
  }
 ],
 "metadata": {
  "kernelspec": {
   "display_name": "Python 3",
   "language": "python",
   "name": "python3"
  },
  "language_info": {
   "codemirror_mode": {
    "name": "ipython",
    "version": 3
   },
   "file_extension": ".py",
   "mimetype": "text/x-python",
   "name": "python",
   "nbconvert_exporter": "python",
   "pygments_lexer": "ipython3",
   "version": "3.5.2"
  }
 },
 "nbformat": 4,
 "nbformat_minor": 2
}
