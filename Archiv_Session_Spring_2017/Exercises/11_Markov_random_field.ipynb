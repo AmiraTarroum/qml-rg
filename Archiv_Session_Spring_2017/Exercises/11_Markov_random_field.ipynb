{
 "cells": [
  {
   "cell_type": "markdown",
   "metadata": {},
   "source": [
    "# QML - RG Homework 11: Markov Random Fields\n",
    "### Alejandro Pozas-Kerstjens"
   ]
  },
  {
   "cell_type": "code",
   "execution_count": 1,
   "metadata": {
    "collapsed": false,
    "deletable": true,
    "editable": true
   },
   "outputs": [],
   "source": [
    "from skimage import io\n",
    "from skimage.transform import resize\n",
    "from functools import reduce    # To do multiple-argument multiplications\n",
    "import numpy as np\n",
    "from numpy.linalg import norm\n",
    "import matplotlib.pyplot as plt"
   ]
  },
  {
   "cell_type": "markdown",
   "metadata": {},
   "source": [
    "### Pre-processing: Loading, resizing, normalizing and binarizing the image"
   ]
  },
  {
   "cell_type": "code",
   "execution_count": 2,
   "metadata": {
    "collapsed": false
   },
   "outputs": [
    {
     "data": {
      "image/png": "[encoded data removed]",
      "text/plain": [
       "<matplotlib.figure.Figure at 0x2995470fda0>"
      ]
     },
     "metadata": {},
     "output_type": "display_data"
    }
   ],
   "source": [
    "einstein = io.imread('einstein.png')\n",
    "\n",
    "einstein = einstein / einstein.max()\n",
    "\n",
    "size = 3    # Choosing bigger sizes gives problems when computing the partition function\n",
    "\n",
    "einstein = resize(einstein, (size, size), mode='constant')\n",
    "\n",
    "def binarize(pixel):\n",
    "    if pixel > 0.5:\n",
    "        return 1\n",
    "    elif pixel <= 0.5:\n",
    "        return -1\n",
    "\n",
    "vfunc = np.vectorize(binarize)\n",
    "\n",
    "einst = vfunc(einstein)\n",
    "plt.imshow(einst)\n",
    "plt.show()\n",
    "\n",
    "training_set = np.array([einst])"
   ]
  },
  {
   "cell_type": "markdown",
   "metadata": {},
   "source": [
    "### Compute positive phase terms (constant for every iteration)"
   ]
  },
  {
   "cell_type": "code",
   "execution_count": 3,
   "metadata": {
    "collapsed": false,
    "deletable": true,
    "editable": true
   },
   "outputs": [],
   "source": [
    "hpos = np.zeros(training_set[0].shape)\n",
    "hpos = 1 / len(training_set) * np.sum(training_set, axis=0)\n",
    "\n",
    "neighbors = 3    # Number of sites we are going to consider as nearest neighbors\n",
    "\n",
    "Jpos = np.zeros((size, size , neighbors, neighbors))\n",
    "\n",
    "for i in range(size):\n",
    "    for j in range(size):\n",
    "        for k in range(neighbors):\n",
    "            for l in range(neighbors):\n",
    "                if ((i + k > size - 1) | (j + l > size - 1)) | ((k == 0) & (l == 0)):\n",
    "                    ,    # Condition to avoid correlations between top and bottom rows, or left and right columns\n",
    "                else:\n",
    "                    Jpos[i][j][k][l] = np.sum(training_set[:, i + k, j + l]\n",
    "                                               * training_set[:, i, j], axis=0) / len(training_set)"
   ]
  },
  {
   "cell_type": "markdown",
   "metadata": {},
   "source": [
    "NOTE: The structure of J is funny. The first two labels $(i,j)$ denote each spin. The two second ones $(j,k)$ denote the neighbors of the corresponding spin, i.e., spin $(i+k,j+l)$. Self-energies $J_{i,j,0,0}$ are not taken into account. Only neighbors to the right and down need to be stored due to the symmetry of the interaction."
   ]
  },
  {
   "cell_type": "markdown",
   "metadata": {},
   "source": [
    "### Functions needed for computing the negative phase terms"
   ]
  },
  {
   "cell_type": "code",
   "execution_count": 4,
   "metadata": {
    "collapsed": true
   },
   "outputs": [],
   "source": [
    "# Initialize parameters\n",
    "\n",
    "htrained = 2 * np.random.rand(size, size) - np.ones(training_set[0].shape)\n",
    "Jtrained = np.zeros(Jpos.shape)\n",
    "Jtrained[abs(Jpos) > 0] = 2 * np.random.rand() - 1    # Funny way to initialize only relevant cells in J\n",
    "\n",
    "def potential(z, h):    # Potential energy of a configuration\n",
    "    return np.sum(np.multiply(h, z))\n",
    "def interactions(z, J):    # Interaction energy of a configuration\n",
    "    return np.sum(np.array([J[i][j][k][l] * z[i][j] * z[i + k][j + l] for i in range(size)\n",
    "                            for j in range(size) for k in range(size - i) for l in range(size - j)]))\n",
    "def P(z, h, J, norm):    # Thermal distribution of configurations with temperature=1\n",
    "    return np.exp(-np.sum(potential(z, h)) - np.sum(interactions(z, J))) / norm\n",
    "def mse(a, b):    # Mean squared error (used during training to assess convergence)\n",
    "    return ((a - b) ** 2).mean()\n",
    "\n",
    "# Generate all possible configurations of spins for a given size\n",
    "m = size ** 2\n",
    "d = np.array(range(2 ** m))\n",
    "allconfs = (((d[:,None] & (1 << np.arange(m)))) > 0).astype(int).reshape(2 ** m, size, size)\n",
    "allconfs = 2 * allconfs - np.ones(allconfs.shape)    # Change 0s by -1s"
   ]
  },
  {
   "cell_type": "markdown",
   "metadata": {},
   "source": [
    "### Training"
   ]
  },
  {
   "cell_type": "code",
   "execution_count": 5,
   "metadata": {
    "collapsed": false,
    "deletable": true,
    "editable": true,
    "scrolled": true
   },
   "outputs": [
    {
     "name": "stdout",
     "output_type": "stream",
     "text": [
      "Iterations done: 12\n",
      "Training complete\n"
     ]
    }
   ],
   "source": [
    "hpre = np.zeros(htrained.shape)\n",
    "Jpre = np.zeros(Jtrained.shape)\n",
    "\n",
    "a = 1    # For debugging and iterations counting\n",
    "ϵ = 10 ** (-8)    # Precision of results\n",
    "while (mse(hpre, htrained) > ϵ) | (mse(Jpre, Jtrained) > ϵ):\n",
    "    hpre = htrained\n",
    "    Jpre = Jtrained\n",
    "    norm = np.sum([np.exp(-np.sum(potential(conf, htrained)) - np.sum(interactions(conf, Jtrained))) for conf in allconfs])\n",
    "\n",
    "    # Compute negative phase terms\n",
    "    hneg = np.zeros(training_set[0].shape)\n",
    "    for i in range(size):\n",
    "        for j in range(size):\n",
    "            hneg[i][j] = (np.sum([P(z, htrained, Jtrained, norm) for z in allconfs[allconfs[:, i, j]==1]])\n",
    "                          - np.sum([P(z, htrained, Jtrained, norm) for z in allconfs[allconfs[:, i, j]==-1]]))\n",
    "\n",
    "    Jneg = np.zeros(Jpos.shape)\n",
    "    for i in range(size):\n",
    "        for j in range(size):\n",
    "            for k in range(neighbors):\n",
    "                for l in range(neighbors):\n",
    "                    if ((i + k > size - 1) | (j + l > size - 1)) | ((k == 0) & (l == 0)):\n",
    "                        ,\n",
    "                    else:\n",
    "                        Jneg[i][j][k][l] = (np.sum([P(z, htrained, Jtrained, norm) for z in allconfs[(allconfs[:, i, j]==1) & (allconfs[:, i + k, j + l]==1)]])\n",
    "                                                  + np.sum([P(z, htrained, Jtrained, norm) for z in allconfs[(allconfs[:, i, j]==-1) & (allconfs[:, i + k, j + l]==-1)]])\n",
    "                                                  - np.sum([P(z, htrained, Jtrained, norm) for z in allconfs[(allconfs[:, i, j]==-1) & (allconfs[:, i + k, j + l]==1)]])\n",
    "                                                  - np.sum([P(z, htrained, Jtrained, norm) for z in allconfs[(allconfs[:, i, j]==1) & (allconfs[:, i + k, j + l]==-1)]]))\n",
    "                                              \n",
    "    # Update parameters\n",
    "    htrained = htrained + hpos - hneg\n",
    "    Jtrained = Jtrained + Jpos - Jneg\n",
    "    \n",
    "    # Idea to keep the parameters in [-1, 1].\n",
    "    # If there is a parameter outside [-1, 1], normalize all by the highest value\n",
    "    if any(abs(x) > 1 for x in np.ndarray.flatten(htrained)) | any(abs(x) > 1 for x in np.ndarray.flatten(Jtrained)):\n",
    "        hm = abs(htrained).max()\n",
    "        Jm = abs(Jtrained).max()\n",
    "        mx = np.array([hm, Jm]).max()\n",
    "        htrained = htrained / mx\n",
    "        Jtrained = Jtrained / mx\n",
    "    \n",
    "    # Have a check that everything is running (in a fancy way :P)\n",
    "    print(\"Iterations done: %i\" % a, end='\\r')\n",
    "    a += 1\n",
    "print(\"\\nTraining complete\")    "
   ]
  },
  {
   "cell_type": "markdown",
   "metadata": {},
   "source": [
    "### Sampling"
   ]
  },
  {
   "cell_type": "code",
   "execution_count": 6,
   "metadata": {
    "collapsed": false,
    "deletable": true,
    "editable": true
   },
   "outputs": [
    {
     "data": {
      "image/png": "[encoded data removed]",
      "text/plain": [
       "<matplotlib.figure.Figure at 0x29952e622e8>"
      ]
     },
     "metadata": {},
     "output_type": "display_data"
    }
   ],
   "source": [
    "## Given some partial image, we are going to choose the most probable configuration\n",
    "\n",
    "keep = [0]    # Rows that we want to keep from the original image\n",
    "\n",
    "norm = np.sum([np.exp(-np.sum(potential(conf, htrained)) - np.sum(interactions(conf, Jtrained))) for conf in allconfs])\n",
    "possible = np.array([[z, P(z, htrained, Jtrained, norm)]\n",
    "            for z in allconfs[reduce(np.multiply,[np.prod(allconfs[:, i]==einst[i], axis=1) for i in keep]).astype(bool)]])\n",
    "\n",
    "tru = possible[:, 0][np.argmax(possible[:,1])]\n",
    "\n",
    "plt.imshow(tru)\n",
    "plt.show()"
   ]
  },
  {
   "cell_type": "markdown",
   "metadata": {},
   "source": [
    "Well, it's not particularly good, but I think we cannot expect much more from a 3x3 image"
   ]
  }
 ],
 "metadata": {
  "kernelspec": {
   "display_name": "Python 3",
   "language": "python",
   "name": "python3"
  },
  "language_info": {
   "codemirror_mode": {
    "name": "ipython",
    "version": 3
   },
   "file_extension": ".py",
   "mimetype": "text/x-python",
   "name": "python",
   "nbconvert_exporter": "python",
   "pygments_lexer": "ipython3",
   "version": "3.5.2"
  }
 },
 "nbformat": 4,
 "nbformat_minor": 2
}
