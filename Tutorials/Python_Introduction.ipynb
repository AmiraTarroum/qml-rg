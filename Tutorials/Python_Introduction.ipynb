{
 "cells": [
  {
   "cell_type": "markdown",
   "metadata": {},
   "source": [
    "1. Introduction\n",
    "================\n",
    "\n",
    "2. Compilers, interpreters, JIT compilation\n",
    "===========================================\n",
    "\n",
    "3. So what is Python?\n",
    "=====================\n",
    "CPython, Cython, Pypy\n",
    "\n",
    "IPython, Jupyter\n",
    "\n",
    "3.1 Design principles\n",
    "--------------\n",
    "\n",
    "- Easy to read: it was designed for humans to read the code.\n",
    "\n",
    "- Perfect glue language: it plays along nicely with every other language under the sun.\n",
    "\n",
    "- One obvious way to do something: this was not true for Perl.\n",
    "\n",
    "It was not designed to be fast or safe or easy to parallelize. It was never designed to be a language for scientific computing. It became a *de facto* next-best alternative to MATLAB after the unification of the various numerical libraries under the umbrella of numpy and SciPy. With the development of SymPy, it acquired properties similar in functionality to Mathematica. With Pandas, it takes on R as the choice for statistical computations. With TensorFlow and Theano, it is overtaking distributed frameworks like Hadoop and Spark in large-scale machine learning. We can keep listing packages, but you get the idea.\n",
    "\n",
    "3.2 Global interpreter lock\n",
    "-------------------\n",
    "\n",
    "3.3 Python 2 versus 3\n",
    "--------------"
   ]
  },
  {
   "cell_type": "code",
   "execution_count": null,
   "metadata": {
    "collapsed": true
   },
   "outputs": [],
   "source": []
  },
  {
   "cell_type": "markdown",
   "metadata": {},
   "source": [
    "3.4 Don't know how to code? Completely new to Python?\n",
    "------------------------------------------------\n",
    "A good start for any programming language is a Jupyter kernel if the language has one.\n",
    "\n",
    "Spyder: instant access to documentation, variable inspection, code navigation\n",
    "\n",
    "4. Where to find code and how (don't reinvent the wheel, round 1)\n",
    "============================\n",
    "\n",
    "\n",
    "5. Why am I committing a crime against humanity by using MATLAB?\n",
    "================================\n",
    "\n",
    "6. Package management (don't reinvent the wheel, round 2)\n",
    "====================\n",
    "Anaconda, PyPI."
   ]
  },
  {
   "cell_type": "code",
   "execution_count": null,
   "metadata": {
    "collapsed": true
   },
   "outputs": [],
   "source": []
  },
  {
   "cell_type": "markdown",
   "metadata": {},
   "source": [
    "7. Idiomatic Python\n",
    "===================\n",
    "\n",
    "7.1 Tricks with lists\n",
    "---------------------"
   ]
  },
  {
   "cell_type": "code",
   "execution_count": null,
   "metadata": {
    "collapsed": true
   },
   "outputs": [],
   "source": []
  },
  {
   "cell_type": "markdown",
   "metadata": {},
   "source": [
    "7.2 PEP8\n",
    "--------"
   ]
  },
  {
   "cell_type": "code",
   "execution_count": null,
   "metadata": {
    "collapsed": true
   },
   "outputs": [],
   "source": []
  },
  {
   "cell_type": "markdown",
   "metadata": {},
   "source": [
    "7.3 Tuples, swap\n",
    "----------------"
   ]
  },
  {
   "cell_type": "code",
   "execution_count": null,
   "metadata": {
    "collapsed": true
   },
   "outputs": [],
   "source": []
  },
  {
   "cell_type": "markdown",
   "metadata": {},
   "source": [
    "7.4 Indexing\n",
    "------------\n",
    "Use of `in`, `enumerate`, slicing"
   ]
  },
  {
   "cell_type": "code",
   "execution_count": null,
   "metadata": {
    "collapsed": true
   },
   "outputs": [],
   "source": []
  },
  {
   "cell_type": "markdown",
   "metadata": {},
   "source": [
    "8. Types\n",
    "--------"
   ]
  },
  {
   "cell_type": "code",
   "execution_count": null,
   "metadata": {
    "collapsed": true
   },
   "outputs": [],
   "source": []
  },
  {
   "cell_type": "markdown",
   "metadata": {},
   "source": [
    "9. Read the fine documentation (and write it)\n",
    "-----------------------------------------"
   ]
  },
  {
   "cell_type": "code",
   "execution_count": null,
   "metadata": {
    "collapsed": true
   },
   "outputs": [],
   "source": []
  }
 ],
 "metadata": {
  "kernelspec": {
   "display_name": "Python 3",
   "language": "python",
   "name": "python3"
  },
  "language_info": {
   "codemirror_mode": {
    "name": "ipython",
    "version": 3
   },
   "file_extension": ".py",
   "mimetype": "text/x-python",
   "name": "python",
   "nbconvert_exporter": "python",
   "pygments_lexer": "ipython3",
   "version": "3.6.0"
  }
 },
 "nbformat": 4,
 "nbformat_minor": 2
}
