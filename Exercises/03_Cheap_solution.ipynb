{
 "cells": [
  {
   "cell_type": "markdown",
   "metadata": {},
   "source": [
    "This is a few-liner implementation using [this fork](https://github.com/claymcleod/dqn) of the DQN reinforcement learning algorithm. It relies on Keras as a back-end for deep learning."
   ]
  },
  {
   "cell_type": "code",
   "execution_count": null,
   "metadata": {
    "ExecuteTime": {
     "start_time": "2017-03-09T08:24:29.613Z"
    },
    "collapsed": false
   },
   "outputs": [
    {
     "name": "stderr",
     "output_type": "stream",
     "text": [
      "[2017-03-09 09:24:29,637] Making new env: MsPacman-v0\n"
     ]
    },
    {
     "name": "stdout",
     "output_type": "stream",
     "text": [
      "Training a new model\n"
     ]
    }
   ],
   "source": [
    "import gym\n",
    "from dqn import Agent\n",
    "num_episodes = 20\n",
    "env = gym.make(\"MsPacman-v0\")\n",
    "agent = Agent(state_size=env.observation_space.shape,\n",
    "              number_of_actions=env.action_space.n,\n",
    "              save_name=\"MsPacman-v0\")\n",
    "for e in range(num_episodes):\n",
    "    observation = env.reset()\n",
    "    done = False\n",
    "    agent.new_episode()\n",
    "    total_cost = 0.0\n",
    "    total_reward = 0.0\n",
    "    frame = 0\n",
    "    while not done:\n",
    "        frame += 1\n",
    "        #env.render()\n",
    "        action, values = agent.act(observation)\n",
    "        #action = env.action_space.sample()\n",
    "        observation, reward, done, info = env.step(action)\n",
    "        total_cost += agent.observe(reward)\n",
    "        total_reward += reward\n",
    "    print(\"total reward\", total_reward)\n",
    "print(\"mean cost\", total_cost/frame)"
   ]
  },
  {
   "cell_type": "code",
   "execution_count": null,
   "metadata": {
    "collapsed": true
   },
   "outputs": [],
   "source": []
  }
 ],
 "metadata": {
  "kernelspec": {
   "display_name": "Python 3",
   "language": "python",
   "name": "python3"
  },
  "language_info": {
   "codemirror_mode": {
    "name": "ipython",
    "version": 3
   },
   "file_extension": ".py",
   "mimetype": "text/x-python",
   "name": "python",
   "nbconvert_exporter": "python",
   "pygments_lexer": "ipython3",
   "version": "3.6.0"
  }
 },
 "nbformat": 4,
 "nbformat_minor": 2
}
