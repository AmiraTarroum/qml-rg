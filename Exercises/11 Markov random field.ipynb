{
 "cells": [
  {
   "cell_type": "code",
   "execution_count": 1,
   "metadata": {
    "collapsed": false
   },
   "outputs": [],
   "source": [
    "import numpy as np\n",
    "import os\n",
    "import image_loader as im\n",
    "from skimage.transform import resize\n",
    "from matplotlib import pyplot as plt\n",
    "from skimage import io\n",
    "from collections import deque\n",
    "%matplotlib inline"
   ]
  },
  {
   "cell_type": "markdown",
   "metadata": {},
   "source": [
    "First we need to 'binarize' the picture we want to embed in the markow field. This function does it"
   ]
  },
  {
   "cell_type": "code",
   "execution_count": 2,
   "metadata": {
    "collapsed": false
   },
   "outputs": [],
   "source": [
    "def prep_datas(pic, size):\n",
    "    X=resize(pic,(size,size)) # reduce the size of the image from 100X100 to 32X32. Also flattens the color levels\n",
    "    X=np.reshape(X,size**2) # reshape from 32x32 to a flat 1024 vector\n",
    "    \n",
    "    X=np.array(X) # transforms it into an array\n",
    "    \n",
    "    for j in range(len(X)): # let's binarized the image\n",
    "        if X[j] < 0.5:\n",
    "            X[j] = -1\n",
    "        else:\n",
    "            X[j] = 1;\n",
    "            \n",
    "    X_pic = np.reshape(X,(size,size))    \n",
    "    \n",
    "    return X, X_pic"
   ]
  },
  {
   "cell_type": "markdown",
   "metadata": {},
   "source": [
    "We load and prepare the picture"
   ]
  },
  {
   "cell_type": "code",
   "execution_count": 34,
   "metadata": {
    "collapsed": false
   },
   "outputs": [
    {
     "data": {
      "text/plain": [
       "<matplotlib.image.AxesImage at 0x7ff1cb4a7828>"
      ]
     },
     "execution_count": 34,
     "metadata": {},
     "output_type": "execute_result"
    },
    {
     "data": {
      "image/png": "[encoded data removed]",
      "text/plain": [
       "<matplotlib.figure.Figure at 0x7ff1cb60c6a0>"
      ]
     },
     "metadata": {},
     "output_type": "display_data"
    }
   ],
   "source": [
    "size_lattice = 100 # Size of the lattice in which we want to embed the picture\n",
    "\n",
    "einstein_pic = io.imread(\"einstein.png\")\n",
    "training_chain, ein_pic = prep_datas(einstein_pic, size_lattice)\n",
    "\n",
    "plt.subplot(1,2,1)\n",
    "plt.imshow(einstein_pic,cmap='gray')\n",
    "plt.subplot(1,2,2)\n",
    "plt.imshow(ein_pic,cmap='gray')"
   ]
  },
  {
   "cell_type": "markdown",
   "metadata": {},
   "source": [
    "We now define the spin-spin correlation function for the lattice"
   ]
  },
  {
   "cell_type": "code",
   "execution_count": 33,
   "metadata": {
    "collapsed": false
   },
   "outputs": [],
   "source": [
    "def corr(mat, d): # ensemble average of lattice (in form of 1D vector) for d-nearest neigbors spin\n",
    "    \n",
    "    item = deque(mat)\n",
    "    item.rotate(d)\n",
    "    \n",
    "    mean = np.correlate(mat, np.asanyarray(item))/len(mat)\n",
    "    \n",
    "    return mean "
   ]
  }
 ],
 "metadata": {
  "kernelspec": {
   "display_name": "Python 3",
   "language": "python",
   "name": "python3"
  },
  "language_info": {
   "codemirror_mode": {
    "name": "ipython",
    "version": 3
   },
   "file_extension": ".py",
   "mimetype": "text/x-python",
   "name": "python",
   "nbconvert_exporter": "python",
   "pygments_lexer": "ipython3",
   "version": "3.6.0"
  }
 },
 "nbformat": 4,
 "nbformat_minor": 2
}
